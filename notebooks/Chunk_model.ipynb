{
 "cells": [
  {
   "cell_type": "code",
   "execution_count": 25,
   "metadata": {},
   "outputs": [],
   "source": [
    "import os\n",
    "import sys\n",
    "\n",
    "module_path = os.path.abspath(os.path.join('..'))\n",
    "if module_path not in sys.path:\n",
    "    sys.path.append(module_path)\n",
    "\n",
    "from ml.generators import chunk_generator\n",
    "from ml.models import c3d"
   ]
  },
  {
   "cell_type": "code",
   "execution_count": 26,
   "metadata": {},
   "outputs": [],
   "source": [
    "import tensorflow as tf"
   ]
  },
  {
   "cell_type": "code",
   "execution_count": 27,
   "metadata": {},
   "outputs": [
    {
     "name": "stdout",
     "output_type": "stream",
     "text": [
      "HELLO\n"
     ]
    }
   ],
   "source": [
    "sess = tf.Session(config=tf.ConfigProto(log_device_placement=True))\n",
    "print(\"HELLO\")"
   ]
  },
  {
   "cell_type": "code",
   "execution_count": 28,
   "metadata": {},
   "outputs": [
    {
     "ename": "FileNotFoundError",
     "evalue": "[Errno 2] No such file or directory: 'tmp/npy'",
     "output_type": "error",
     "traceback": [
      "\u001b[0;31m---------------------------------------------------------------------------\u001b[0m",
      "\u001b[0;31mFileNotFoundError\u001b[0m                         Traceback (most recent call last)",
      "\u001b[0;32m<ipython-input-28-891722bbfce8>\u001b[0m in \u001b[0;36m<module>\u001b[0;34m()\u001b[0m\n\u001b[0;32m----> 1\u001b[0;31m \u001b[0mTrainGen\u001b[0m \u001b[0;34m=\u001b[0m \u001b[0mchunk_generator\u001b[0m\u001b[0;34m.\u001b[0m\u001b[0mChunkGenerator\u001b[0m\u001b[0;34m(\u001b[0m\u001b[0;34m)\u001b[0m\u001b[0;34m\u001b[0m\u001b[0m\n\u001b[0m\u001b[1;32m      2\u001b[0m \u001b[0mValGen\u001b[0m \u001b[0;34m=\u001b[0m \u001b[0mchunk_generator\u001b[0m\u001b[0;34m.\u001b[0m\u001b[0mChunkGenerator\u001b[0m\u001b[0;34m(\u001b[0m\u001b[0;34m)\u001b[0m\u001b[0;34m\u001b[0m\u001b[0m\n\u001b[1;32m      3\u001b[0m train_gen = TrainGen(dims=(32, 32, 32), # dimensions may\n\u001b[1;32m      4\u001b[0m                                          \u001b[0;31m# be different\u001b[0m\u001b[0;34m\u001b[0m\u001b[0;34m\u001b[0m\u001b[0m\n\u001b[1;32m      5\u001b[0m                                          \u001b[0;31m# depending on what\u001b[0m\u001b[0;34m\u001b[0m\u001b[0;34m\u001b[0m\u001b[0m\n",
      "\u001b[0;32m~/elvo-analysis/ml/generators/chunk_generator.py\u001b[0m in \u001b[0;36m__init__\u001b[0;34m(self, dims, batch_size, shuffle, validation, test, split_test, split, extend_dims, augment_data)\u001b[0m\n\u001b[1;32m     30\u001b[0m \u001b[0;34m\u001b[0m\u001b[0m\n\u001b[1;32m     31\u001b[0m         \u001b[0;31m# Access Google Cloud Storage\u001b[0m\u001b[0;34m\u001b[0m\u001b[0;34m\u001b[0m\u001b[0m\n\u001b[0;32m---> 32\u001b[0;31m         gcs_client = storage.Client.from_service_account_json(\n\u001b[0m\u001b[1;32m     33\u001b[0m             \u001b[0;34m'credentials/client_secret.json'\u001b[0m\u001b[0;34m\u001b[0m\u001b[0m\n\u001b[1;32m     34\u001b[0m         )\n",
      "\u001b[0;31mFileNotFoundError\u001b[0m: [Errno 2] No such file or directory: 'tmp/npy'"
     ]
    }
   ],
   "source": [
    "TrainGen = chunk_generator.ChunkGenerator()\n",
    "ValGen = chunk_generator.ChunkGenerator()\n",
    "train_gen = TrainGen(dims=(32, 32, 32), # dimensions may\n",
    "                                         # be different\n",
    "                                         # depending on what\n",
    "                                         # data we're using\n",
    "                          batch_size=16,\n",
    "                          augment_data=True,\n",
    "                          extend_dims=False,\n",
    "                          validation=False)\n",
    "val_gen = ValGen(dims=(32, 32, 32),\n",
    "                          batch_size=16,\n",
    "                          augment_data=True,\n",
    "                          extend_dims=False,\n",
    "                          validation=True)"
   ]
  },
  {
   "cell_type": "code",
   "execution_count": 24,
   "metadata": {},
   "outputs": [],
   "source": [
    "        # Delete all content in tmp/npy/\n",
    "        # filelist = [f for f in os.listdir('tmp/npy')]\n",
    "        # for f in filelist:\n",
    "        #     os.remove(os.path.join('tmp/npy', f))"
   ]
  },
  {
   "cell_type": "code",
   "execution_count": null,
   "metadata": {},
   "outputs": [],
   "source": []
  }
 ],
 "metadata": {
  "kernelspec": {
   "display_name": "Python 3",
   "language": "python",
   "name": "python3"
  },
  "language_info": {
   "codemirror_mode": {
    "name": "ipython",
    "version": 3
   },
   "file_extension": ".py",
   "mimetype": "text/x-python",
   "name": "python",
   "nbconvert_exporter": "python",
   "pygments_lexer": "ipython3",
   "version": "3.6.3"
  }
 },
 "nbformat": 4,
 "nbformat_minor": 2
}
