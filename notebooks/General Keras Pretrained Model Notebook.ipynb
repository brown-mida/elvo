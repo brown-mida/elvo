{
 "cells": [
  {
   "cell_type": "code",
   "execution_count": 1,
   "metadata": {},
   "outputs": [],
   "source": [
    "import os\n",
    "import sys"
   ]
  },
  {
   "cell_type": "code",
   "execution_count": 2,
   "metadata": {},
   "outputs": [],
   "source": [
    "module_path = os.path.abspath(os.path.join('..'))\n",
    "if module_path not in sys.path:\n",
    "    sys.path.append(module_path)"
   ]
  },
  {
   "cell_type": "code",
   "execution_count": null,
   "metadata": {},
   "outputs": [],
   "source": [
    "import ml.generators.<whatever generator> as generator\n",
    "import tensorflow as tf"
   ]
  },
  {
   "cell_type": "code",
   "execution_count": null,
   "metadata": {},
   "outputs": [],
   "source": [
    "sess = tf.Session(config=tf.ConfigProto(log_device_placement=True))"
   ]
  },
  {
   "cell_type": "code",
   "execution_count": null,
   "metadata": {},
   "outputs": [],
   "source": [
    "TrainGen = generator.<whatever generator>\n",
    "ValGen = generator.<whatever generator>\n",
    "train_gen = TrainGen(dims=(220, 220, 3),\n",
    "                          batch_size=16,\n",
    "                          augment_data=True,\n",
    "                          extend_dims=False,\n",
    "                          validation=False)\n",
    "val_gen = ValGen(dims=(220, 220, 3),\n",
    "                          batch_size=16,\n",
    "                          augment_data=True,\n",
    "                          extend_dims=False,\n",
    "                          validation=True)"
   ]
  },
  {
   "cell_type": "code",
   "execution_count": null,
   "metadata": {},
   "outputs": [],
   "source": [
    "from keras.models import Model\n",
    "from keras.applications.<whatever model> import <model>\n",
    "from keras.layers import Dense, GlobalAveragePooling2D\n",
    "from keras.callbacks import ModelCheckpoint\n",
    "from keras.optimizers import adam"
   ]
  },
  {
   "cell_type": "code",
   "execution_count": null,
   "metadata": {},
   "outputs": [],
   "source": [
    "def add_new_last_layer(base_model, nb_classes):\n",
    "    x = base_model.output\n",
    "    x = GlobalAveragePooling2D()(x)\n",
    "    x = Dense(2048, activation='relu')(x)\n",
    "    predictions = Dense(nb_classes, activation='sigmoid')(x)\n",
    "    model = Model(input=base_model.input, output=predictions)\n",
    "    return model"
   ]
  },
  {
   "cell_type": "code",
   "execution_count": null,
   "metadata": {},
   "outputs": [],
   "source": [
    "base_model = <model>(weights='imagenet', include_top=False, input_shape=(220, 220, 3))\n",
    "for layer in base_model.layers:\n",
    "    layer.trainable = False\n",
    "finished_model = add_new_last_layer(base_model, 1)\n",
    "finished_model.compile(optimizer=adam(lr=0.0001),\n",
    "                      loss='binary_crossentropy',\n",
    "                      metrics=['accuracy'])\n",
    "finished_model.summary()"
   ]
  },
  {
   "cell_type": "code",
   "execution_count": null,
   "metadata": {},
   "outputs": [],
   "source": [
    "mc_callback = ModelCheckpoint(filepath='tmp/<model>_pretrained_weights.hdf5', verbose=1)\n",
    "finished_model.fit_generator(\n",
    "    generator=train_gen.generate(),\n",
    "    steps_per_epoch=train_gen.get_steps_per_epoch(),\n",
    "    validation_data=val_gen.generate(),\n",
    "    validation_steps=val_gen.get_steps_per_epoch(),\n",
    "    epochs=20,\n",
    "    callbacks=[mc_callback],\n",
    "    verbose=1,\n",
    "    max_queue_size=1)"
   ]
  }
 ],
 "metadata": {
  "kernelspec": {
   "display_name": "Python 3",
   "language": "python",
   "name": "python3"
  },
  "language_info": {
   "codemirror_mode": {
    "name": "ipython",
    "version": 3
   },
   "file_extension": ".py",
   "mimetype": "text/x-python",
   "name": "python",
   "nbconvert_exporter": "python",
   "pygments_lexer": "ipython3",
   "version": "3.6.5"
  }
 },
 "nbformat": 4,
 "nbformat_minor": 2
}
