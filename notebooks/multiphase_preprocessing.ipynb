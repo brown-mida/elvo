{
 "cells": [
  {
   "cell_type": "markdown",
   "metadata": {},
   "source": [
    "# Mutichannel MIP Preprocessing for Multiphases Data"
   ]
  },
  {
   "cell_type": "markdown",
   "metadata": {},
   "source": [
    "A scipt that creates multichannel MIPs from multiphase data. Pulls in npz files, processes each npy (each phase) separately, then saves each phase into a directory. "
   ]
  },
  {
   "cell_type": "code",
   "execution_count": 13,
   "metadata": {},
   "outputs": [],
   "source": [
    "import numpy as np\n",
    "import os\n",
    "import sys\n",
    "sys.path.append('../')\n",
    "import etl.lib.transforms as transforms"
   ]
  },
  {
   "cell_type": "code",
   "execution_count": 14,
   "metadata": {},
   "outputs": [],
   "source": [
    "def unzip(path):\n",
    "    \"\"\"\n",
    "    unzips one npz file given path of file\n",
    "    :param path: string path of a singular npz file\n",
    "    :return: the contents of the zip file\n",
    "    \"\"\"\n",
    "    files = np.load(path)\n",
    "    return files"
   ]
  },
  {
   "cell_type": "code",
   "execution_count": 15,
   "metadata": {},
   "outputs": [],
   "source": [
    "def mip(arr):\n",
    "    \"\"\"\n",
    "    applies multichannel mip preprocessing to one array\n",
    "    :param arr: numpy array to be preprocessed\n",
    "    :return: MIP-ed array\n",
    "    \"\"\"\n",
    "    location = 'numpy/axial'\n",
    "    cropped = transforms.crop_multichannel_axial_fa(arr, location)\n",
    "    remove_extremes = transforms.remove_extremes(cropped)\n",
    "    return transforms.mip_multichannel(remove_extremes)"
   ]
  },
  {
   "cell_type": "code",
   "execution_count": 16,
   "metadata": {},
   "outputs": [],
   "source": [
    "def save(mipped_arr, path):\n",
    "    \"\"\"\n",
    "    saves multichannel mip array to the corresponding directory, organized\n",
    "    based on phase\n",
    "    :param mipped_arr: numpy array, mipped\n",
    "    :param path: string path, indicated dir where file should be saved\n",
    "    :return: nothing\n",
    "    \"\"\"\n",
    "    np.save(path, mipped_arr)"
   ]
  },
  {
   "cell_type": "code",
   "execution_count": 49,
   "metadata": {},
   "outputs": [],
   "source": [
    "test_scan = '/research/rih-cs/datasets/elvo-multiphase/v0.1/positive/P108.npz'\n",
    "npy_files = np.load(test_scan)\n",
    "phase1 = npy_files['arr_0']\n",
    "phase2 = npy_files['arr_1']\n",
    "phase3 = npy_files['arr_2']\n",
    "\n",
    "# phase1 = mip(npy_files['arr_0'])\n",
    "# phase2 = mip(npy_files['arr_1'])\n",
    "# phase3 = mip(npy_files['arr_2'])"
   ]
  },
  {
   "cell_type": "code",
   "execution_count": 50,
   "metadata": {},
   "outputs": [
    {
     "name": "stdout",
     "output_type": "stream",
     "text": [
      "(1416, 230, 230)\n",
      "(864, 176, 174)\n",
      "(864, 176, 162)\n"
     ]
    }
   ],
   "source": [
    "print(phase1.shape)\n",
    "print(phase2.shape)\n",
    "print(phase3.shape)"
   ]
  },
  {
   "cell_type": "code",
   "execution_count": 42,
   "metadata": {},
   "outputs": [],
   "source": [
    "location = 'numpy/axial'\n",
    "\n",
    "cropped1 = transforms.crop_multichannel_axial_fa(npy_files['arr_0'], location)\n",
    "cropped2 = transforms.crop_multichannel_axial_fa(npy_files['arr_1'], location)\n",
    "cropped3 = transforms.crop_multichannel_axial_fa(npy_files['arr_2'], location)"
   ]
  },
  {
   "cell_type": "code",
   "execution_count": 45,
   "metadata": {},
   "outputs": [
    {
     "name": "stdout",
     "output_type": "stream",
     "text": [
      "(3, 25, 230, 230)\n"
     ]
    }
   ],
   "source": [
    "print(cropped1.shape)"
   ]
  },
  {
   "cell_type": "code",
   "execution_count": 51,
   "metadata": {},
   "outputs": [],
   "source": [
    "test_mip = transforms.mip_multichannel(cropped1)"
   ]
  },
  {
   "cell_type": "code",
   "execution_count": 40,
   "metadata": {},
   "outputs": [
    {
     "name": "stdout",
     "output_type": "stream",
     "text": [
      "[[[-992. -988. -986. ... -991. -992. -992.]\n",
      "  [-992. -982. -987. ... -990. -993. -990.]\n",
      "  [-988. -988. -987. ... -994. -994. -990.]\n",
      "  ...\n",
      "  [-993. -993. -991. ... -986. -987. -989.]\n",
      "  [-997. -994. -993. ... -985. -989. -991.]\n",
      "  [-996. -994. -997. ... -990. -986. -987.]]\n",
      "\n",
      " [[-991. -988. -980. ... -991. -992. -992.]\n",
      "  [-990. -989. -986. ... -991. -993. -990.]\n",
      "  [-988. -988. -992. ... -994. -993. -990.]\n",
      "  ...\n",
      "  [-992. -993. -989. ... -986. -987. -989.]\n",
      "  [-992. -991. -992. ... -985. -989. -991.]\n",
      "  [-992. -991. -992. ... -990. -986. -987.]]\n",
      "\n",
      " [[-990. -987. -978. ... -995. -991. -992.]\n",
      "  [-990. -989. -986. ... -994. -993. -991.]\n",
      "  [-989. -988. -991. ... -994. -993. -990.]\n",
      "  ...\n",
      "  [-992. -991. -989. ... -986. -986. -989.]\n",
      "  [-991. -991. -992. ... -985. -989. -991.]\n",
      "  [-989. -991. -990. ... -990. -986. -987.]]]\n"
     ]
    }
   ],
   "source": [
    "# print(phase1)\n",
    "# print(phase2)\n",
    "# print(phase3)\n",
    "\n",
    "# print(cropped1)\n",
    "# print(cropped2)\n",
    "# print(cropped3)\n",
    "\n",
    "print(test_mip)"
   ]
  },
  {
   "cell_type": "code",
   "execution_count": 17,
   "metadata": {},
   "outputs": [],
   "source": [
    "def preprocess(dir_path, category):\n",
    "    \"\"\"\n",
    "    preprocesses all data in a given directory (all pos or all neg) and saves\n",
    "    them to the correct location\n",
    "    :param dir_path: path to the directory\n",
    "    :param category: string, pos or neg\n",
    "    :return: nothing\n",
    "    \"\"\"\n",
    "    for npz_file in os.listdir(dir_path):\n",
    "        assert npz_file.endswith(\".npz\")  # expecting npz files\n",
    "        if npz_file.endswith(\".npz\"):  # ignore gstmp files\n",
    "            patient_id = os.path.splitext(npz_file)[0]    # get id w/o extension\n",
    "\n",
    "            # npy_files = unzip(dir_path + '/' + npz_file)  # unzip file\n",
    "            npy_files = np.load(dir_path + '/' + npz_file)\n",
    "            # assert len(npy_files) == 3                    # expect 3 phases\n",
    "\n",
    "            try:\n",
    "                phase1 = mip(npy_files['arr_0'])\n",
    "            except Exception:\n",
    "                print('could not mip phase 1 of ' + patient_id + ' in ' + category)\n",
    "\n",
    "            try:\n",
    "                phase2 = mip(npy_files['arr_1'])\n",
    "            except Exception:\n",
    "                print('could not mip phase 2 of ' + patient_id + ' in ' + category)\n",
    "\n",
    "            try:\n",
    "                phase3 = mip(npy_files['arr_2'])\n",
    "            except Exception:\n",
    "                print('could not mip phase 3 of ' + patient_id + ' in ' + category)"
   ]
  },
  {
   "cell_type": "code",
   "execution_count": null,
   "metadata": {},
   "outputs": [],
   "source": []
  }
 ],
 "metadata": {
  "kernelspec": {
   "display_name": "Python 3",
   "language": "python",
   "name": "python3"
  },
  "language_info": {
   "codemirror_mode": {
    "name": "ipython",
    "version": 3
   },
   "file_extension": ".py",
   "mimetype": "text/x-python",
   "name": "python",
   "nbconvert_exporter": "python",
   "pygments_lexer": "ipython3",
   "version": "3.6.5"
  }
 },
 "nbformat": 4,
 "nbformat_minor": 2
}
