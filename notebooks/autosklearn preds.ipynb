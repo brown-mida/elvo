{
 "cells": [
  {
   "cell_type": "code",
   "execution_count": null,
   "metadata": {},
   "outputs": [],
   "source": [
    "!gsutil rsync -d -r gs://elvos/chunk_data/preds/train /home/harold_triedman/elvo-analysis/data/preds/train\n",
    "!gsutil rsync -d -r gs://elvos/chunk_data/preds/val /home/harold_triedman/elvo-analysis/data/preds/val\n",
    "!gsutil rsync -d -r gs://elvos/chunk_data/preds/test /home/harold_triedman/elvo-analysis/data/preds/test"
   ]
  }
 ],
 "metadata": {
  "kernelspec": {
   "display_name": "Python 3",
   "language": "python",
   "name": "python3"
  },
  "language_info": {
   "codemirror_mode": {
    "name": "ipython",
    "version": 3
   },
   "file_extension": ".py",
   "mimetype": "text/x-python",
   "name": "python",
   "nbconvert_exporter": "python",
   "pygments_lexer": "ipython3",
   "version": "3.6.3"
  }
 },
 "nbformat": 4,
 "nbformat_minor": 2
}
