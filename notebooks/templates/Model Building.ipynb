{
 "cells": [
  {
   "cell_type": "markdown",
   "metadata": {},
   "source": [
    "# Model Building Template\n",
    "\n",
    "Copy this template to build and evaluate models.\n",
    "\n",
    "This assumes that you've already saved processed data to disk."
   ]
  },
  {
   "cell_type": "code",
   "execution_count": null,
   "metadata": {},
   "outputs": [],
   "source": [
    "def load_data(data_dir: str) -> typing.Dict[str, np.ndarray]:\n",
    "    \"\"\"Returns a dictionary which maps patient ids\n",
    "    to patient pixel data.\"\"\"\n",
    "    data_dict = {}\n",
    "    for filename in os.listdir(data_dir):\n",
    "        patient_id = filename[:-4] # remove .npy extension\n",
    "        data_dict[patient_id] = np.load(pathlib.Path(data_dir) / filename)\n",
    "    return data_dict"
   ]
  },
  {
   "cell_type": "code",
   "execution_count": null,
   "metadata": {},
   "outputs": [],
   "source": [
    "# LOAD YOUR PROCESSED DATA\n",
    "processed_dict = ..."
   ]
  },
  {
   "cell_type": "code",
   "execution_count": null,
   "metadata": {},
   "outputs": [],
   "source": [
    "labels_df = pd.read_csv('<PATH/TO/PROCESSED/LABELS>',\n",
    "                        index_col='patient_id')"
   ]
  },
  {
   "cell_type": "markdown",
   "metadata": {},
   "source": [
    "## Preprocessing: Part III\n",
    "\n",
    "The loaded data is a dictionary, we need to convert it to a numpy\n",
    "array of the right dimensions before training.\n",
    "\n",
    "We also need to apply some final transformations (normalization, shuffling, etc.)\n",
    "\n",
    "See https://keras.io/utils/ and https://keras.io/preprocessing/image/#imagedatagenerator-class."
   ]
  },
  {
   "cell_type": "code",
   "execution_count": null,
   "metadata": {},
   "outputs": [],
   "source": [
    "import random"
   ]
  },
  {
   "cell_type": "code",
   "execution_count": null,
   "metadata": {},
   "outputs": [],
   "source": [
    "def as_numpy_arrays(data: typing.Dict[str, np.ndarray],\n",
    "                    labels: pd.DataFrame) -> (np.ndarray, np.ndarray):\n",
    "    shuffled_ids = list(data.keys())\n",
    "    random.shuffle(shuffled_ids)\n",
    "    X_list = []\n",
    "    y_list = []\n",
    "    for id_ in shuffled_ids:\n",
    "        X_list.append(data[id_])\n",
    "        y_list.append(labels.loc[id_])\n",
    "    return np.stack(X_list), np.stack(y_list)"
   ]
  },
  {
   "cell_type": "code",
   "execution_count": null,
   "metadata": {},
   "outputs": [],
   "source": [
    "# Here's an example\n",
    "X_train, y_train = as_numpy_arrays(processed_dict, labels_df)\n",
    "y_train = np_utils.to_categorical(y_train, 2)\n",
    "print(X_train.shape, y_train.shape)\n",
    "\n",
    "datagen = ImageDataGenerator(\n",
    "    featurewise_center=True,\n",
    "    featurewise_std_normalization=True,\n",
    "    rotation_range=20,\n",
    "    width_shift_range=0.2,\n",
    "    height_shift_range=0.2,\n",
    "    horizontal_flip=True)\n",
    "\n",
    "datagen.fit(X_train)"
   ]
  },
  {
   "cell_type": "markdown",
   "metadata": {},
   "source": [
    "## Model Definition\n",
    "\n",
    "Put your model definition below. Don't forget to update\n",
    "the [architecture spreasheet](https://docs.google.com/spreadsheets/u/1/d/1frBnIXvA8B2b0im9cGipa8ndfpU5VhaZYpFTw-gQ35Q/edit#gid=0)."
   ]
  },
  {
   "cell_type": "code",
   "execution_count": null,
   "metadata": {},
   "outputs": [],
   "source": [
    "from keras import applications\n",
    "from keras import optimizers\n",
    "from keras import models, layers, objectives\n",
    "from keras import backend as K"
   ]
  },
  {
   "cell_type": "code",
   "execution_count": 1,
   "metadata": {},
   "outputs": [],
   "source": [
    "def sensitivity(y_true, y_pred):\n",
    "    \"\"\"We need high sensitivity as well as good \n",
    "    accuracy.\n",
    "    \"\"\"\n",
    "    true_positives = K.sum(K.round(K.clip(y_true * y_pred, 0, 1)))\n",
    "    possible_positives = K.sum(K.round(K.clip(y_true, 0, 1)))\n",
    "    return true_positives / (possible_positives + K.epsilon())"
   ]
  },
  {
   "cell_type": "code",
   "execution_count": null,
   "metadata": {},
   "outputs": [],
   "source": [
    "model = models.Sequential()\n",
    "# IMPLEMENT YOUR MODEL HERE\n",
    "model.compile(optimizer='sgd',\n",
    "              loss='categorical_crossentropy',\n",
    "              metrics=['accuracy', sensitivity])"
   ]
  },
  {
   "cell_type": "code",
   "execution_count": null,
   "metadata": {},
   "outputs": [],
   "source": [
    "model.summary()"
   ]
  },
  {
   "cell_type": "code",
   "execution_count": null,
   "metadata": {},
   "outputs": [],
   "source": [
    "epochs = 100\n",
    "batch_size = 32"
   ]
  },
  {
   "cell_type": "code",
   "execution_count": null,
   "metadata": {
    "scrolled": true
   },
   "outputs": [],
   "source": [
    "history = model.fit(X, y,\n",
    "                    epochs=epochs,\n",
    "                    batch_size=batch_size,\n",
    "                    validation_split=0.2)"
   ]
  },
  {
   "cell_type": "markdown",
   "metadata": {},
   "source": [
    "## Model Evaluation\n",
    "\n",
    "This contains code to evaluate the effectiveness of your model."
   ]
  },
  {
   "cell_type": "code",
   "execution_count": null,
   "metadata": {},
   "outputs": [],
   "source": [
    "%matplotlib inline"
   ]
  },
  {
   "cell_type": "code",
   "execution_count": null,
   "metadata": {},
   "outputs": [],
   "source": [
    "import matplotlib.pyplot as plt "
   ]
  },
  {
   "cell_type": "code",
   "execution_count": null,
   "metadata": {},
   "outputs": [],
   "source": [
    "plt.figure()\n",
    "plt.plot(history.history['acc'], 'orange', label='Training accuracy') \n",
    "plt.plot(history.history['val_acc'], 'blue', label='Validation accuracy') \n",
    "plt.legend()\n",
    "plt.show()"
   ]
  },
  {
   "cell_type": "code",
   "execution_count": null,
   "metadata": {},
   "outputs": [],
   "source": [
    "plt.figure()\n",
    "plt.plot(history.history['loss'], 'red', label='Training loss') \n",
    "plt.plot(history.history['val_loss'], 'green', label='Validation loss') \n",
    "plt.legend()\n",
    "plt.show()"
   ]
  },
  {
   "cell_type": "markdown",
   "metadata": {},
   "source": [
    "The code below plots an image and it's label.\n",
    "- TODO: Plot multiple at once.\n",
    "- TODO: Configure to work with both 4D and 5D input X"
   ]
  },
  {
   "cell_type": "code",
   "execution_count": null,
   "metadata": {},
   "outputs": [],
   "source": [
    "def plot_Xy(X, y, i):\n",
    "    plt.imshow(mip(X[i,:, :, 20:40, 0]))\n",
    "    plt.title(f'predicted: {model.predict_classes(X[i:i+1])} actual: {y[i, 0]}')"
   ]
  },
  {
   "cell_type": "code",
   "execution_count": null,
   "metadata": {},
   "outputs": [],
   "source": [
    "for i in reversed(range(879)):\n",
    "    plot_Xy(X, y, i)\n",
    "    plt.show()\n",
    "    input()"
   ]
  },
  {
   "cell_type": "markdown",
   "metadata": {},
   "source": [
    "- TODO: Activation visualization\n",
    "- TODO: Weight visualization\n",
    "- TODO: Tensorboard"
   ]
  },
  {
   "cell_type": "markdown",
   "metadata": {},
   "source": [
    "## Saving your Model"
   ]
  },
  {
   "cell_type": "code",
   "execution_count": null,
   "metadata": {},
   "outputs": [],
   "source": [
    "# Uncomment to save your model\n",
    "# model.save('<PATH/TO/MODEL>.hdf5' )"
   ]
  }
 ],
 "metadata": {
  "kernelspec": {
   "display_name": "Python 3",
   "language": "python",
   "name": "python3"
  },
  "language_info": {
   "codemirror_mode": {
    "name": "ipython",
    "version": 3
   },
   "file_extension": ".py",
   "mimetype": "text/x-python",
   "name": "python",
   "nbconvert_exporter": "python",
   "pygments_lexer": "ipython3",
   "version": "3.6.3"
  }
 },
 "nbformat": 4,
 "nbformat_minor": 2
}
