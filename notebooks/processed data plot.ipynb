{
 "cells": [
  {
   "cell_type": "code",
   "execution_count": 8,
   "metadata": {},
   "outputs": [],
   "source": [
    "%matplotlib inline\n",
    "\n",
    "import numpy as np # linear algebra\n",
    "import pandas as pd # data processing, CSV file I/O (e.g. pd.read_csv)\n",
    "import pydicom\n",
    "import os\n",
    "import scipy.ndimage\n",
    "import matplotlib.pyplot as plt\n",
    "\n",
    "from skimage import measure, morphology\n",
    "from mpl_toolkits.mplot3d.art3d import Poly3DCollection\n",
    "\n",
    "INPUT_FOLDER = '/Users/amy/Documents/ELVOproject/processed_data/'"
   ]
  },
  {
   "cell_type": "code",
   "execution_count": 9,
   "metadata": {},
   "outputs": [],
   "source": [
    "def plot_3d(image, threshold=-300):\n",
    "    \n",
    "    # Position the scan upright, \n",
    "    # so the head of the patient would be at the top facing the camera\n",
    "    p = image.transpose(2,1,0)\n",
    "    \n",
    "    verts, faces = measure.marching_cubes_classic(p, threshold)\n",
    "    \n",
    "    # Fancy indexing: `verts[faces]` to generate a collection of triangles\n",
    "    mesh = Poly3DCollection(verts[faces])\n",
    "    face_color = [0.45, 0.45, 0.75]\n",
    "    mesh.set_facecolor(face_color)\n",
    "    ax.add_collection3d(mesh)\n",
    "\n",
    "    ax.set_xlim(0, p.shape[0])\n",
    "    ax.set_ylim(0, p.shape[1])\n",
    "    ax.set_zlim(0, p.shape[2])\n",
    "\n",
    "    plt.show()"
   ]
  },
  {
   "cell_type": "code",
   "execution_count": 10,
   "metadata": {},
   "outputs": [
    {
     "name": "stdout",
     "output_type": "stream",
     "text": [
      "['.DS_Store', 'numpy%2F04IOS24JP70LHBGB.npy', 'numpy%2FANZM4SIQFTWG7K47.npy']\n",
      "[[[-1014 -1001  -992 ... -1004  -995  -996]\n",
      "  [-1008 -1007  -996 ...  -999 -1002 -1003]\n",
      "  [ -993 -1008 -1005 ... -1006 -1002  -999]\n",
      "  ...\n",
      "  [ -155   -91   -16 ...    41    68    90]\n",
      "  [   26   -22     8 ...    33    -8   -32]\n",
      "  [   59   -53   -82 ...    -3   -30    -4]]\n",
      "\n",
      " [[-1005 -1008 -1011 ...  -987 -1011  -995]\n",
      "  [ -995 -1015 -1022 ...  -993 -1008 -1003]\n",
      "  [ -990 -1009 -1012 ...  -998 -1007 -1001]\n",
      "  ...\n",
      "  [  -88   -81   -33 ...    16    15     4]\n",
      "  [   40    70    54 ...    -2     8    27]\n",
      "  [    4   -79   -55 ...    44    16    14]]\n",
      "\n",
      " [[ -995 -1003 -1005 ...  -975 -1012  -996]\n",
      "  [ -982  -995 -1015 ...  -981 -1007 -1001]\n",
      "  [ -992  -994 -1004 ...  -993 -1001 -1004]\n",
      "  ...\n",
      "  [  -40   -39     4 ...    -8    45    28]\n",
      "  [   22    14   -11 ...    24    18   -62]\n",
      "  [    0   -34   -35 ...    20   -24   -22]]\n",
      "\n",
      " ...\n",
      "\n",
      " [[-1010 -1006  -999 ... -1002  -998  -996]\n",
      "  [ -995 -1001  -996 ... -1004  -995  -991]\n",
      "  [ -997  -998 -1000 ... -1007 -1004  -997]\n",
      "  ...\n",
      "  [ -994  -998 -1003 ... -1001  -993  -999]\n",
      "  [ -992 -1000  -998 ...  -997 -1000 -1001]\n",
      "  [ -994 -1001 -1002 ...  -999 -1001 -1000]]\n",
      "\n",
      " [[-1015 -1016 -1002 ...  -997  -994  -994]\n",
      "  [-1003  -998  -999 ... -1006  -995  -988]\n",
      "  [ -988  -991 -1006 ... -1014 -1011  -996]\n",
      "  ...\n",
      "  [ -995  -997  -998 ...  -999  -998  -996]\n",
      "  [ -998 -1000  -999 ...  -994  -999  -997]\n",
      "  [ -995 -1005  -999 ... -1000 -1002 -1001]]\n",
      "\n",
      " [[ -998 -1001 -1005 ...  -998  -999 -1003]\n",
      "  [ -999 -1002 -1004 ... -1001  -999 -1000]\n",
      "  [ -997 -1002  -997 ... -1002 -1007 -1005]\n",
      "  ...\n",
      "  [ -996  -998  -995 ...  -995 -1005 -1003]\n",
      "  [ -994  -995  -997 ... -1000 -1001 -1003]\n",
      "  [ -997  -995  -995 ...  -999 -1006 -1002]]]\n"
     ]
    }
   ],
   "source": [
    "patients = os.listdir(INPUT_FOLDER)\n",
    "print(patients)\n",
    "patient1 = np.load(INPUT_FOLDER + patients[2])\n",
    "print(patient1)"
   ]
  },
  {
   "cell_type": "code",
   "execution_count": 11,
   "metadata": {},
   "outputs": [],
   "source": [
    "def crop_center(img,cropx,cropy,cropz):\n",
    "    x,y,z = img.shape\n",
    "    startx = x//2-(cropx//2)\n",
    "    starty = y//2-(cropy//2)    \n",
    "    startz = z//2-(cropz//2)  \n",
    "    return img[startx:startx+cropx,starty:starty+cropy,startz:startz+cropz]"
   ]
  },
  {
   "cell_type": "code",
   "execution_count": 12,
   "metadata": {},
   "outputs": [
    {
     "name": "stdout",
     "output_type": "stream",
     "text": [
      "[[[-1006 -1012 -1004 ... -1017 -1013 -1010]\n",
      "  [-1002 -1008 -1003 ... -1015 -1012 -1008]\n",
      "  [-1004 -1008 -1006 ... -1012 -1008 -1010]\n",
      "  ...\n",
      "  [   -5    10    12 ...   -23   -36    18]\n",
      "  [    7    37    38 ...     0   -31    28]\n",
      "  [   16    28    40 ...    30   -28    28]]\n",
      "\n",
      " [[-1007 -1010 -1014 ... -1014 -1007 -1005]\n",
      "  [-1005 -1011 -1012 ... -1010 -1008 -1008]\n",
      "  [-1002 -1017 -1017 ... -1014 -1012 -1009]\n",
      "  ...\n",
      "  [   -8     7     9 ...   -34   -12    29]\n",
      "  [   26    39    36 ...   -19   -29    39]\n",
      "  [   36    33    43 ...   -10   -47    34]]\n",
      "\n",
      " [[-1005 -1007 -1005 ... -1003 -1002 -1002]\n",
      "  [-1005 -1009 -1008 ... -1004 -1000 -1008]\n",
      "  [-1000 -1013 -1016 ... -1003 -1004 -1007]\n",
      "  ...\n",
      "  [    3    13    13 ...   -42    10    48]\n",
      "  [   15    19    28 ...   -31   -36    29]\n",
      "  [   20    24    28 ...   -19   -67    15]]\n",
      "\n",
      " ...\n",
      "\n",
      " [[  117    53    52 ...   735  1092  1275]\n",
      "  [   16    38    70 ...   286   639   962]\n",
      "  [   15    48    75 ...    57   196   477]\n",
      "  ...\n",
      "  [   87    63    56 ...   234   505  1029]\n",
      "  [  369   146    68 ...   895  1401  1712]\n",
      "  [ 1231   536   182 ...  1655  1820  1915]]\n",
      "\n",
      " [[  146    51    50 ...   709  1069  1284]\n",
      "  [   54    47    52 ...   265   634   946]\n",
      "  [   29    66    68 ...    61   187   459]\n",
      "  ...\n",
      "  [   94    67    62 ...   227   550  1052]\n",
      "  [  444   155    63 ...   900  1413  1683]\n",
      "  [ 1336   579   184 ...  1680  1835  1890]]\n",
      "\n",
      " [[  193    60    54 ...   651   849  1043]\n",
      "  [   69    53    48 ...   219   493   800]\n",
      "  [   53    50    49 ...    72   157   418]\n",
      "  ...\n",
      "  [  121    59    58 ...   193   530  1054]\n",
      "  [  589   175    61 ...   860  1378  1650]\n",
      "  [ 1504   700   209 ...  1648  1843  1889]]]\n"
     ]
    }
   ],
   "source": [
    "image_cropped = crop_center(patient1,150,150,64)\n",
    "print(image_cropped)"
   ]
  },
  {
   "cell_type": "code",
   "execution_count": 13,
   "metadata": {},
   "outputs": [],
   "source": [
    "def plot_3d(image, ax):\n",
    "    \n",
    "    # Position the scan upright, \n",
    "    # so the head of the patient would be at the top facing the camera\n",
    "    p = image.transpose(2,1,0)\n",
    "    \n",
    "    #p = image\n",
    "    \n",
    "    verts, faces = measure.marching_cubes_classic(p, 40)\n",
    "\n",
    "    # Fancy indexing: `verts[faces]` to generate a collection of triangles\n",
    "    mesh = Poly3DCollection(verts[faces], alpha=0.70)\n",
    "    face_color = [0.45, 0.45, 0.75]\n",
    "    mesh.set_facecolor(face_color)\n",
    "    ax.add_collection3d(mesh)\n",
    "\n",
    "    ax.set_xlim(0, p.shape[0])\n",
    "    ax.set_ylim(0, p.shape[1])\n",
    "    ax.set_zlim(0, p.shape[2])\n",
    "\n",
    "    plt.show()"
   ]
  },
  {
   "cell_type": "code",
   "execution_count": null,
   "metadata": {},
   "outputs": [],
   "source": [
    "fig = plt.figure(figsize=(10, 10))\n",
    "axis = fig.add_subplot(111, projection='3d')\n",
    "plot_3d(patient1, axis)\n",
    "plot_3d(image_cropped, axis)"
   ]
  },
  {
   "cell_type": "code",
   "execution_count": null,
   "metadata": {},
   "outputs": [],
   "source": []
  },
  {
   "cell_type": "code",
   "execution_count": null,
   "metadata": {},
   "outputs": [],
   "source": []
  }
 ],
 "metadata": {
  "kernelspec": {
   "display_name": "Python 3",
   "language": "python",
   "name": "python3"
  },
  "language_info": {
   "codemirror_mode": {
    "name": "ipython",
    "version": 3
   },
   "file_extension": ".py",
   "mimetype": "text/x-python",
   "name": "python",
   "nbconvert_exporter": "python",
   "pygments_lexer": "ipython3",
   "version": "3.6.5"
  }
 },
 "nbformat": 4,
 "nbformat_minor": 2
}
