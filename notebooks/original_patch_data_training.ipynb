{
 "cells": [
  {
   "cell_type": "code",
   "execution_count": 35,
   "metadata": {},
   "outputs": [],
   "source": [
    "import os\n",
    "import sys\n",
    "import tensorflow as tf\n",
    "\n",
    "module_path = os.path.abspath(os.path.join('..'))\n",
    "if module_path not in sys.path:\n",
    "    sys.path.append(module_path)\n",
    "    \n",
    "from ml.models.three_d import voxnet_no_gen\n",
    "from ml.models.three_d import c3d"
   ]
  },
  {
   "cell_type": "code",
   "execution_count": 36,
   "metadata": {},
   "outputs": [],
   "source": [
    "import csv\n",
    "import numpy as np\n",
    "import random\n",
    "from keras.preprocessing.image import ImageDataGenerator\n",
    "from google.cloud import storage\n",
    "from etl.lib import cloud_management"
   ]
  },
  {
   "cell_type": "code",
   "execution_count": 37,
   "metadata": {},
   "outputs": [],
   "source": [
    "BLACKLIST = []\n",
    "        \n",
    "# Delete all content in /home/amy/data/chunkss\n",
    "filelist = [f for f in os.listdir('/home/amy/data/chunks/')]\n",
    "for f in filelist:\n",
    "    os.remove(os.path.join('/home/amy/data/chunks/', f))\n",
    "\n",
    "# Access Google Cloud Storage\n",
    "gcs_client = storage.Client.from_service_account_json(\n",
    "    '/home/amy/credentials/client_secret.json'\n",
    ")\n",
    "bucket = gcs_client.get_bucket('elvos')\n",
    "\n",
    "# Get label data from Google Cloud Storage\n",
    "blob = storage.Blob('no_aug_annotated_labels.csv', bucket)\n",
    "blob.download_to_filename('/home/amy/data/no_aug_annotated_labels.csv')\n",
    "prelim_label_data = {}\n",
    "with open('/home/amy/data/no_aug_annotated_labels.csv', 'r') as pos_file:\n",
    "    reader = csv.reader(pos_file, delimiter=',')\n",
    "    for row in reader:\n",
    "        if row[1] != 'Unnamed: 0.1':\n",
    "            #print\n",
    "            prelim_label_data[row[1]] = int(row[2])\n",
    "            #print(row[1])"
   ]
  },
  {
   "cell_type": "code",
   "execution_count": 38,
   "metadata": {},
   "outputs": [],
   "source": [
    "# Get all of the positives from the label data\n",
    "positive_label_data = {}\n",
    "#print('getting positive labels')\n",
    "for id_, label in list(prelim_label_data.items()):\n",
    "    if label == 1:\n",
    "        positive_label_data[id_] = label\n",
    "        #print(id_)\n",
    "#print(len(positive_label_data))"
   ]
  },
  {
   "cell_type": "code",
   "execution_count": 39,
   "metadata": {
    "scrolled": true
   },
   "outputs": [],
   "source": [
    "#Get 600 random negatives from the label data to feed into our generator\n",
    "negative_counter = 0\n",
    "negative_label_data = {}\n",
    "#print(f\"getting {len(list(positive_label_data.keys()))} random negative labels\")\n",
    "while negative_counter < 550:\n",
    "    id_, label = random.choice(list(prelim_label_data.items()))\n",
    "    if label == 0:\n",
    "        negative_label_data[id_] = label\n",
    "        del prelim_label_data[id_]\n",
    "        negative_counter += 1"
   ]
  },
  {
   "cell_type": "code",
   "execution_count": 40,
   "metadata": {},
   "outputs": [],
   "source": [
    "chunks = []\n",
    "labels = []"
   ]
  },
  {
   "cell_type": "code",
   "execution_count": 41,
   "metadata": {},
   "outputs": [],
   "source": [
    "i = 1\n",
    "for id_, label in list(negative_label_data.items()):\n",
    "    #print(i, 'chunk_data/normal/negative/' + id_ + '.npy')\n",
    "    blob = bucket.get_blob('chunk_data/normal/negative/' + id_ + '.npy')\n",
    "    arr = cloud_management.download_array(blob)\n",
    "    if arr.shape == (32, 32, 32):\n",
    "        arr = np.expand_dims(arr, axis=-1)\n",
    "        chunks.append(arr)\n",
    "        labels.append(label)\n",
    "        i += 1"
   ]
  },
  {
   "cell_type": "code",
   "execution_count": 42,
   "metadata": {
    "scrolled": true
   },
   "outputs": [],
   "source": [
    "i = 1\n",
    "for id_, label in list(positive_label_data.items()):\n",
    "    #print(i, 'chunk_data/normal/positive_no_aug/' + id_  + '.npy')\n",
    "    blob = bucket.get_blob('chunk_data/normal/positive_no_aug/' + id_ + '.npy')\n",
    "    #print(blob)\n",
    "    arr = cloud_management.download_array(blob)\n",
    "    if arr.shape == (32, 32, 32):\n",
    "        arr = np.expand_dims(arr, axis=-1)\n",
    "        chunks.append(arr)\n",
    "        labels.append(label)\n",
    "        i += 1"
   ]
  },
  {
   "cell_type": "code",
   "execution_count": 43,
   "metadata": {},
   "outputs": [],
   "source": [
    "tmp = list(zip(chunks, labels))\n",
    "random.shuffle(tmp)\n",
    "chunks, labels = zip(*tmp)\n",
    "\n",
    "# Split based on validation\n",
    "# print('splitting based on validation split')\n",
    "X_train = np.asarray(chunks[int(len(chunks) * 0.1):])\n",
    "y_train = np.asarray(labels[int(len(labels) * 0.1):])\n",
    "\n",
    "X_val = np.asarray(chunks[:int(len(chunks) * 0.1)])\n",
    "y_val = np.asarray(labels[:int(len(labels) * 0.1)])"
   ]
  },
  {
   "cell_type": "code",
   "execution_count": 44,
   "metadata": {},
   "outputs": [],
   "source": [
    "sess = tf.Session(config=tf.ConfigProto(log_device_placement=True))"
   ]
  },
  {
   "cell_type": "code",
   "execution_count": 45,
   "metadata": {},
   "outputs": [],
   "source": [
    "from keras.optimizers import SGD\n",
    "from keras.metrics import binary_accuracy, binary_crossentropy\n",
    "from keras.callbacks import ModelCheckpoint\n"
   ]
  },
  {
   "cell_type": "code",
   "execution_count": 46,
   "metadata": {},
   "outputs": [],
   "source": [
    "from keras.optimizers import SGD\n",
    "from keras import metrics\n",
    "from keras import backend as K\n",
    "from keras.callbacks import ModelCheckpoint\n",
    "\n",
    "LEARN_RATE = 1e-5"
   ]
  },
  {
   "cell_type": "code",
   "execution_count": 47,
   "metadata": {},
   "outputs": [
    {
     "name": "stdout",
     "output_type": "stream",
     "text": [
      "(859, 32, 32, 32, 1) (859,)\n",
      "(95, 32, 32, 32, 1) (95,)\n"
     ]
    }
   ],
   "source": [
    "print(X_train.shape, y_train.shape)\n",
    "print(X_val.shape, y_val.shape)"
   ]
  },
  {
   "cell_type": "code",
   "execution_count": 48,
   "metadata": {},
   "outputs": [],
   "source": [
    "def true_positives(y_true, y_pred):\n",
    "    return K.sum(K.round(K.clip(y_true * y_pred, 0, 1)))\n",
    "\n",
    "\n",
    "def false_negatives(y_true, y_pred):\n",
    "    return K.sum(K.round(K.clip(y_true * (1 - y_pred), 0, 1)))\n",
    "\n",
    "\n",
    "def sensitivity(y_true, y_pred):\n",
    "    true_positives = K.sum(K.round(K.clip(y_true * y_pred, 0, 1)))\n",
    "    possible_positives = K.sum(K.round(K.clip(y_true, 0, 1)))\n",
    "    return true_positives / (possible_positives + K.epsilon())\n",
    "\n",
    "\n",
    "def specificity(y_true, y_pred):\n",
    "    true_negatives = K.sum(K.round(K.clip((1 - y_true) * (1 - y_pred), 0, 1)))\n",
    "    possible_negatives = K.sum(K.round(K.clip(1 - y_true, 0, 1)))\n",
    "    return true_negatives / (possible_negatives + K.epsilon())"
   ]
  },
  {
   "cell_type": "code",
   "execution_count": 49,
   "metadata": {},
   "outputs": [],
   "source": [
    "metrics.true_positives = true_positives\n",
    "metrics.false_negtives = false_negatives\n",
    "metrics.sensitivity = sensitivity\n",
    "metrics.specificity = specificity"
   ]
  },
  {
   "cell_type": "code",
   "execution_count": 50,
   "metadata": {},
   "outputs": [
    {
     "name": "stdout",
     "output_type": "stream",
     "text": [
      "____________________________________________________________________________________________________________________________________________\n",
      "Layer (type)                                                   Output Shape                                            Param #              \n",
      "============================================================================================================================================\n",
      "input_1 (InputLayer)                                           (None, 32, 32, 32, 1)                                   0                    \n",
      "____________________________________________________________________________________________________________________________________________\n",
      "average_pooling3d_2 (AveragePooling3D)                         (None, 16, 32, 32, 1)                                   0                    \n",
      "____________________________________________________________________________________________________________________________________________\n",
      "conv1 (Conv3D)                                                 (None, 16, 32, 32, 64)                                  1792                 \n",
      "____________________________________________________________________________________________________________________________________________\n",
      "pool1 (MaxPooling3D)                                           (None, 16, 16, 16, 64)                                  0                    \n",
      "____________________________________________________________________________________________________________________________________________\n",
      "conv2 (Conv3D)                                                 (None, 16, 16, 16, 128)                                 221312               \n",
      "____________________________________________________________________________________________________________________________________________\n",
      "pool2 (MaxPooling3D)                                           (None, 8, 8, 8, 128)                                    0                    \n",
      "____________________________________________________________________________________________________________________________________________\n",
      "dropout_4 (Dropout)                                            (None, 8, 8, 8, 128)                                    0                    \n",
      "____________________________________________________________________________________________________________________________________________\n",
      "conv3a (Conv3D)                                                (None, 8, 8, 8, 256)                                    884992               \n",
      "____________________________________________________________________________________________________________________________________________\n",
      "conv3b (Conv3D)                                                (None, 8, 8, 8, 256)                                    1769728              \n",
      "____________________________________________________________________________________________________________________________________________\n",
      "pool3 (MaxPooling3D)                                           (None, 4, 4, 4, 256)                                    0                    \n",
      "____________________________________________________________________________________________________________________________________________\n",
      "dropout_5 (Dropout)                                            (None, 4, 4, 4, 256)                                    0                    \n",
      "____________________________________________________________________________________________________________________________________________\n",
      "conv4a (Conv3D)                                                (None, 4, 4, 4, 512)                                    3539456              \n",
      "____________________________________________________________________________________________________________________________________________\n",
      "conv4b (Conv3D)                                                (None, 4, 4, 4, 512)                                    7078400              \n",
      "____________________________________________________________________________________________________________________________________________\n",
      "pool4 (MaxPooling3D)                                           (None, 2, 2, 2, 512)                                    0                    \n",
      "____________________________________________________________________________________________________________________________________________\n",
      "dropout_6 (Dropout)                                            (None, 2, 2, 2, 512)                                    0                    \n",
      "____________________________________________________________________________________________________________________________________________\n",
      "last_64 (Conv3D)                                               (None, 1, 1, 1, 64)                                     262208               \n",
      "____________________________________________________________________________________________________________________________________________\n",
      "out_class_last (Conv3D)                                        (None, 1, 1, 1, 1)                                      65                   \n",
      "____________________________________________________________________________________________________________________________________________\n",
      "out_class (Flatten)                                            (None, 1)                                               0                    \n",
      "============================================================================================================================================\n",
      "Total params: 13,757,953\n",
      "Trainable params: 13,757,953\n",
      "Non-trainable params: 0\n",
      "____________________________________________________________________________________________________________________________________________\n"
     ]
    },
    {
     "name": "stderr",
     "output_type": "stream",
     "text": [
      "/home/amy/elvo-analysis/ml/models/three_d/c3d.py:21: UserWarning: Update your `AveragePooling3D` call to the Keras 2 API: `AveragePooling3D(pool_size=(2, 1, 1), strides=(2, 1, 1), padding=\"same\")`\n",
      "  strides=(2, 1, 1), border_mode=\"same\")(x)\n",
      "/home/amy/elvo-analysis/ml/models/three_d/c3d.py:24: UserWarning: Update your `Conv3D` call to the Keras 2 API: `Conv3D(64, (3, 3, 3), activation=\"relu\", name=\"conv1\", strides=(1, 1, 1), padding=\"same\")`\n",
      "  subsample=(1, 1, 1))(x)\n",
      "/home/amy/elvo-analysis/ml/models/three_d/c3d.py:27: UserWarning: Update your `MaxPooling3D` call to the Keras 2 API: `MaxPooling3D(pool_size=(1, 2, 2), strides=(1, 2, 2), name=\"pool1\", padding=\"valid\")`\n",
      "  name='pool1')(x)\n",
      "/home/amy/elvo-analysis/ml/models/three_d/c3d.py:32: UserWarning: Update your `Conv3D` call to the Keras 2 API: `Conv3D(128, (3, 3, 3), activation=\"relu\", name=\"conv2\", strides=(1, 1, 1), padding=\"same\")`\n",
      "  subsample=(1, 1, 1))(x)\n",
      "/home/amy/elvo-analysis/ml/models/three_d/c3d.py:34: UserWarning: Update your `MaxPooling3D` call to the Keras 2 API: `MaxPooling3D(pool_size=(2, 2, 2), strides=(2, 2, 2), name=\"pool2\", padding=\"valid\")`\n",
      "  border_mode='valid', name='pool2')(x)\n",
      "/home/amy/elvo-analysis/ml/models/three_d/c3d.py:35: UserWarning: Update your `Dropout` call to the Keras 2 API: `Dropout(rate=0.3)`\n",
      "  x = Dropout(p=0.3)(x)\n",
      "/home/amy/elvo-analysis/ml/models/three_d/c3d.py:40: UserWarning: Update your `Conv3D` call to the Keras 2 API: `Conv3D(256, (3, 3, 3), activation=\"relu\", name=\"conv3a\", strides=(1, 1, 1), padding=\"same\")`\n",
      "  subsample=(1, 1, 1))(x)\n",
      "/home/amy/elvo-analysis/ml/models/three_d/c3d.py:43: UserWarning: Update your `Conv3D` call to the Keras 2 API: `Conv3D(256, (3, 3, 3), activation=\"relu\", name=\"conv3b\", strides=(1, 1, 1), padding=\"same\")`\n",
      "  subsample=(1, 1, 1))(x)\n",
      "/home/amy/elvo-analysis/ml/models/three_d/c3d.py:45: UserWarning: Update your `MaxPooling3D` call to the Keras 2 API: `MaxPooling3D(pool_size=(2, 2, 2), strides=(2, 2, 2), name=\"pool3\", padding=\"valid\")`\n",
      "  border_mode='valid', name='pool3')(x)\n",
      "/home/amy/elvo-analysis/ml/models/three_d/c3d.py:46: UserWarning: Update your `Dropout` call to the Keras 2 API: `Dropout(rate=0.4)`\n",
      "  x = Dropout(p=0.4)(x)\n",
      "/home/amy/elvo-analysis/ml/models/three_d/c3d.py:51: UserWarning: Update your `Conv3D` call to the Keras 2 API: `Conv3D(512, (3, 3, 3), activation=\"relu\", name=\"conv4a\", strides=(1, 1, 1), padding=\"same\")`\n",
      "  subsample=(1, 1, 1))(x)\n",
      "/home/amy/elvo-analysis/ml/models/three_d/c3d.py:54: UserWarning: Update your `Conv3D` call to the Keras 2 API: `Conv3D(512, (3, 3, 3), activation=\"relu\", name=\"conv4b\", strides=(1, 1, 1), padding=\"same\")`\n",
      "  subsample=(1, 1, 1),)(x)\n",
      "/home/amy/elvo-analysis/ml/models/three_d/c3d.py:56: UserWarning: Update your `MaxPooling3D` call to the Keras 2 API: `MaxPooling3D(pool_size=(2, 2, 2), strides=(2, 2, 2), name=\"pool4\", padding=\"valid\")`\n",
      "  border_mode='valid', name='pool4')(x)\n",
      "/home/amy/elvo-analysis/ml/models/three_d/c3d.py:57: UserWarning: Update your `Dropout` call to the Keras 2 API: `Dropout(rate=0.5)`\n",
      "  x = Dropout(p=0.5)(x)\n",
      "/home/amy/elvo-analysis/ml/models/three_d/c3d.py:60: UserWarning: Update your `Conv3D` call to the Keras 2 API: `Conv3D(64, (2, 2, 2), activation=\"relu\", name=\"last_64\")`\n",
      "  name=\"last_64\")(x)\n",
      "/home/amy/elvo-analysis/ml/models/three_d/c3d.py:62: UserWarning: Update your `Conv3D` call to the Keras 2 API: `Conv3D(1, (1, 1, 1), activation=\"sigmoid\", name=\"out_class_last\")`\n",
      "  name=\"out_class_last\")(last64)\n",
      "/home/amy/elvo-analysis/ml/models/three_d/c3d.py:65: UserWarning: Update your `Model` call to the Keras 2 API: `Model(inputs=Tensor(\"in..., outputs=Tensor(\"ou...)`\n",
      "  model = Model(input=inputs, output=out_class)\n"
     ]
    }
   ],
   "source": [
    "model = c3d.C3DBuilder.build()\n",
    "model.compile(optimizer=SGD(lr=LEARN_RATE, momentum=0.9, nesterov=True),\n",
    "              loss={\"out_class\": \"binary_crossentropy\"},\n",
    "#               loss='binary_crossentropy'\n",
    "              metrics={\"out_class\": [metrics.binary_accuracy,\n",
    "                                     metrics.binary_crossentropy,\n",
    "                                     true_positives,\n",
    "                                     false_negatives,\n",
    "                                     sensitivity,\n",
    "                                     specificity]})\n"
   ]
  },
  {
   "cell_type": "code",
   "execution_count": 51,
   "metadata": {},
   "outputs": [
    {
     "name": "stdout",
     "output_type": "stream",
     "text": [
      "Train on 859 samples, validate on 95 samples\n",
      "Epoch 1/100\n",
      "859/859 [==============================] - 5s 6ms/step - loss: 2.3853 - binary_accuracy: 0.6938 - binary_crossentropy: 2.3853 - true_positives: 4.3574 - false_negatives: 2.0675 - sensitivity: 0.6767 - specificity: 0.7077 - val_loss: 1.6723 - val_binary_accuracy: 0.7368 - val_binary_crossentropy: 1.6723 - val_true_positives: 5.6421 - val_false_negatives: 0.0000e+00 - val_sensitivity: 1.0000 - val_specificity: 0.4865\n",
      "Epoch 2/100\n",
      "859/859 [==============================] - 4s 5ms/step - loss: 1.5624 - binary_accuracy: 0.7986 - binary_crossentropy: 1.5624 - true_positives: 5.1455 - false_negatives: 1.2794 - sensitivity: 0.8117 - specificity: 0.7968 - val_loss: 0.3001 - val_binary_accuracy: 0.9158 - val_binary_crossentropy: 0.3001 - val_true_positives: 5.6421 - val_false_negatives: 0.0000e+00 - val_sensitivity: 1.0000 - val_specificity: 0.8353\n",
      "Epoch 3/100\n",
      "859/859 [==============================] - 4s 5ms/step - loss: 1.0821 - binary_accuracy: 0.7893 - binary_crossentropy: 1.0821 - true_positives: 5.1315 - false_negatives: 1.2875 - sensitivity: 0.7981 - specificity: 0.7778 - val_loss: 0.1673 - val_binary_accuracy: 0.9579 - val_binary_crossentropy: 0.1673 - val_true_positives: 5.5263 - val_false_negatives: 0.1158 - val_sensitivity: 0.9711 - val_specificity: 0.9398\n",
      "Epoch 4/100\n",
      "859/859 [==============================] - 4s 5ms/step - loss: 0.8614 - binary_accuracy: 0.8091 - binary_crossentropy: 0.8614 - true_positives: 5.2573 - false_negatives: 1.1735 - sensitivity: 0.8191 - specificity: 0.8004 - val_loss: 0.2155 - val_binary_accuracy: 0.9684 - val_binary_crossentropy: 0.2155 - val_true_positives: 5.6421 - val_false_negatives: 0.0000e+00 - val_sensitivity: 1.0000 - val_specificity: 0.9398\n",
      "Epoch 5/100\n",
      "859/859 [==============================] - 4s 5ms/step - loss: 0.5315 - binary_accuracy: 0.8149 - binary_crossentropy: 0.5315 - true_positives: 5.1874 - false_negatives: 1.2317 - sensitivity: 0.7997 - specificity: 0.8230 - val_loss: 0.2060 - val_binary_accuracy: 0.9579 - val_binary_crossentropy: 0.2060 - val_true_positives: 5.4000 - val_false_negatives: 0.2421 - val_sensitivity: 0.9553 - val_specificity: 0.9609\n",
      "Epoch 6/100\n",
      "859/859 [==============================] - 4s 5ms/step - loss: 0.5481 - binary_accuracy: 0.8161 - binary_crossentropy: 0.5481 - true_positives: 5.3190 - false_negatives: 1.1176 - sensitivity: 0.8316 - specificity: 0.7995 - val_loss: 0.2351 - val_binary_accuracy: 0.9684 - val_binary_crossentropy: 0.2351 - val_true_positives: 5.6421 - val_false_negatives: 0.0000e+00 - val_sensitivity: 1.0000 - val_specificity: 0.9293\n",
      "Epoch 7/100\n",
      "859/859 [==============================] - 4s 5ms/step - loss: 0.5301 - binary_accuracy: 0.8289 - binary_crossentropy: 0.5301 - true_positives: 5.3527 - false_negatives: 1.0838 - sensitivity: 0.8369 - specificity: 0.8249 - val_loss: 0.2296 - val_binary_accuracy: 0.9684 - val_binary_crossentropy: 0.2296 - val_true_positives: 5.5263 - val_false_negatives: 0.1158 - val_sensitivity: 0.9711 - val_specificity: 0.9609\n",
      "Epoch 8/100\n",
      "859/859 [==============================] - 4s 5ms/step - loss: 0.4047 - binary_accuracy: 0.8498 - binary_crossentropy: 0.4047 - true_positives: 5.5763 - false_negatives: 0.8545 - sensitivity: 0.8749 - specificity: 0.8236 - val_loss: 0.2505 - val_binary_accuracy: 0.9579 - val_binary_crossentropy: 0.2505 - val_true_positives: 5.5158 - val_false_negatives: 0.1263 - val_sensitivity: 0.9860 - val_specificity: 0.9398\n",
      "Epoch 9/100\n",
      "859/859 [==============================] - 4s 5ms/step - loss: 0.4587 - binary_accuracy: 0.8091 - binary_crossentropy: 0.4587 - true_positives: 5.3469 - false_negatives: 1.0896 - sensitivity: 0.8285 - specificity: 0.7831 - val_loss: 0.2641 - val_binary_accuracy: 0.9684 - val_binary_crossentropy: 0.2641 - val_true_positives: 5.6421 - val_false_negatives: 0.0000e+00 - val_sensitivity: 1.0000 - val_specificity: 0.9398\n",
      "Epoch 10/100\n",
      "859/859 [==============================] - 4s 5ms/step - loss: 0.4077 - binary_accuracy: 0.8393 - binary_crossentropy: 0.4077 - true_positives: 5.5623 - false_negatives: 0.8801 - sensitivity: 0.8704 - specificity: 0.8107 - val_loss: 0.2591 - val_binary_accuracy: 0.9579 - val_binary_crossentropy: 0.2591 - val_true_positives: 5.4000 - val_false_negatives: 0.2421 - val_sensitivity: 0.9570 - val_specificity: 0.9609\n",
      "Epoch 11/100\n",
      "859/859 [==============================] - 4s 5ms/step - loss: 0.3858 - binary_accuracy: 0.8335 - binary_crossentropy: 0.3858 - true_positives: 5.4971 - false_negatives: 0.9220 - sensitivity: 0.8613 - specificity: 0.8199 - val_loss: 0.2634 - val_binary_accuracy: 0.9789 - val_binary_crossentropy: 0.2634 - val_true_positives: 5.6421 - val_false_negatives: 0.0000e+00 - val_sensitivity: 1.0000 - val_specificity: 0.9609\n",
      "Epoch 12/100\n",
      "859/859 [==============================] - 4s 5ms/step - loss: 0.3784 - binary_accuracy: 0.8440 - binary_crossentropy: 0.3784 - true_positives: 5.4983 - false_negatives: 0.9441 - sensitivity: 0.8490 - specificity: 0.8316 - val_loss: 0.2711 - val_binary_accuracy: 0.9368 - val_binary_crossentropy: 0.2711 - val_true_positives: 5.6421 - val_false_negatives: 0.0000e+00 - val_sensitivity: 1.0000 - val_specificity: 0.8850\n",
      "Epoch 13/100\n",
      "859/859 [==============================] - 4s 5ms/step - loss: 0.4257 - binary_accuracy: 0.8405 - binary_crossentropy: 0.4257 - true_positives: 5.6205 - false_negatives: 0.8102 - sensitivity: 0.8774 - specificity: 0.7986 - val_loss: 0.2757 - val_binary_accuracy: 0.9579 - val_binary_crossentropy: 0.2757 - val_true_positives: 5.6421 - val_false_negatives: 0.0000e+00 - val_sensitivity: 1.0000 - val_specificity: 0.9241\n",
      "Epoch 14/100\n",
      "859/859 [==============================] - 4s 5ms/step - loss: 0.3719 - binary_accuracy: 0.8510 - binary_crossentropy: 0.3719 - true_positives: 5.5984 - false_negatives: 0.8324 - sensitivity: 0.8717 - specificity: 0.8200 - val_loss: 0.2612 - val_binary_accuracy: 0.9579 - val_binary_crossentropy: 0.2612 - val_true_positives: 5.6421 - val_false_negatives: 0.0000e+00 - val_sensitivity: 1.0000 - val_specificity: 0.9241\n",
      "Epoch 15/100\n",
      "859/859 [==============================] - 4s 5ms/step - loss: 0.3515 - binary_accuracy: 0.8545 - binary_crossentropy: 0.3515 - true_positives: 5.6787 - false_negatives: 0.7404 - sensitivity: 0.8772 - specificity: 0.8214 - val_loss: 0.2789 - val_binary_accuracy: 0.9474 - val_binary_crossentropy: 0.2789 - val_true_positives: 5.6421 - val_false_negatives: 0.0000e+00 - val_sensitivity: 1.0000 - val_specificity: 0.9030\n",
      "Epoch 16/100\n",
      "859/859 [==============================] - 4s 5ms/step - loss: 0.3472 - binary_accuracy: 0.8568 - binary_crossentropy: 0.3472 - true_positives: 5.6542 - false_negatives: 0.7823 - sensitivity: 0.8673 - specificity: 0.8288 - val_loss: 0.2932 - val_binary_accuracy: 0.9263 - val_binary_crossentropy: 0.2932 - val_true_positives: 5.6421 - val_false_negatives: 0.0000e+00 - val_sensitivity: 1.0000 - val_specificity: 0.8534\n",
      "Epoch 17/100\n",
      "859/859 [==============================] - 4s 5ms/step - loss: 0.3410 - binary_accuracy: 0.8685 - binary_crossentropy: 0.3410 - true_positives: 5.8161 - false_negatives: 0.6088 - sensitivity: 0.9066 - specificity: 0.8246 - val_loss: 0.2712 - val_binary_accuracy: 0.9474 - val_binary_crossentropy: 0.2712 - val_true_positives: 5.6421 - val_false_negatives: 0.0000e+00 - val_sensitivity: 1.0000 - val_specificity: 0.9030\n",
      "Epoch 18/100\n",
      "859/859 [==============================] - 4s 5ms/step - loss: 0.3628 - binary_accuracy: 0.8533 - binary_crossentropy: 0.3628 - true_positives: 5.6065 - false_negatives: 0.8242 - sensitivity: 0.8672 - specificity: 0.8205 - val_loss: 0.2808 - val_binary_accuracy: 0.9263 - val_binary_crossentropy: 0.2808 - val_true_positives: 5.6421 - val_false_negatives: 0.0000e+00 - val_sensitivity: 1.0000 - val_specificity: 0.8429\n",
      "Epoch 19/100\n",
      "859/859 [==============================] - 4s 5ms/step - loss: 0.3392 - binary_accuracy: 0.8719 - binary_crossentropy: 0.3392 - true_positives: 5.7939 - false_negatives: 0.6368 - sensitivity: 0.9019 - specificity: 0.8482 - val_loss: 0.2778 - val_binary_accuracy: 0.9263 - val_binary_crossentropy: 0.2778 - val_true_positives: 5.6421 - val_false_negatives: 0.0000e+00 - val_sensitivity: 1.0000 - val_specificity: 0.8429\n"
     ]
    },
    {
     "name": "stdout",
     "output_type": "stream",
     "text": [
      "Epoch 20/100\n",
      "859/859 [==============================] - 4s 5ms/step - loss: 0.3217 - binary_accuracy: 0.8603 - binary_crossentropy: 0.3217 - true_positives: 5.7823 - false_negatives: 0.6426 - sensitivity: 0.9068 - specificity: 0.8107 - val_loss: 0.2735 - val_binary_accuracy: 0.9474 - val_binary_crossentropy: 0.2735 - val_true_positives: 5.6421 - val_false_negatives: 0.0000e+00 - val_sensitivity: 1.0000 - val_specificity: 0.8789\n",
      "Epoch 21/100\n",
      "859/859 [==============================] - 4s 5ms/step - loss: 0.3482 - binary_accuracy: 0.8510 - binary_crossentropy: 0.3482 - true_positives: 5.6205 - false_negatives: 0.8102 - sensitivity: 0.8699 - specificity: 0.8202 - val_loss: 0.2738 - val_binary_accuracy: 0.9263 - val_binary_crossentropy: 0.2738 - val_true_positives: 5.6421 - val_false_negatives: 0.0000e+00 - val_sensitivity: 1.0000 - val_specificity: 0.8429\n",
      "Epoch 22/100\n",
      "859/859 [==============================] - 4s 5ms/step - loss: 0.3246 - binary_accuracy: 0.8615 - binary_crossentropy: 0.3246 - true_positives: 5.6542 - false_negatives: 0.7707 - sensitivity: 0.8767 - specificity: 0.8374 - val_loss: 0.2488 - val_binary_accuracy: 0.9474 - val_binary_crossentropy: 0.2488 - val_true_positives: 5.6421 - val_false_negatives: 0.0000e+00 - val_sensitivity: 1.0000 - val_specificity: 0.8820\n",
      "Epoch 23/100\n",
      "859/859 [==============================] - 4s 5ms/step - loss: 0.3159 - binary_accuracy: 0.8743 - binary_crossentropy: 0.3159 - true_positives: 5.8498 - false_negatives: 0.5867 - sensitivity: 0.9012 - specificity: 0.8362 - val_loss: 0.2431 - val_binary_accuracy: 0.9579 - val_binary_crossentropy: 0.2431 - val_true_positives: 5.5263 - val_false_negatives: 0.1158 - val_sensitivity: 0.9711 - val_specificity: 0.9398\n",
      "Epoch 24/100\n",
      "859/859 [==============================] - 4s 5ms/step - loss: 0.3266 - binary_accuracy: 0.8510 - binary_crossentropy: 0.3266 - true_positives: 5.6100 - false_negatives: 0.8265 - sensitivity: 0.8623 - specificity: 0.8323 - val_loss: 0.2527 - val_binary_accuracy: 0.9368 - val_binary_crossentropy: 0.2527 - val_true_positives: 5.6421 - val_false_negatives: 0.0000e+00 - val_sensitivity: 1.0000 - val_specificity: 0.8504\n",
      "Epoch 25/100\n",
      "859/859 [==============================] - 4s 5ms/step - loss: 0.3083 - binary_accuracy: 0.8708 - binary_crossentropy: 0.3083 - true_positives: 5.7544 - false_negatives: 0.6705 - sensitivity: 0.8931 - specificity: 0.8528 - val_loss: 0.2382 - val_binary_accuracy: 0.9579 - val_binary_crossentropy: 0.2382 - val_true_positives: 5.6421 - val_false_negatives: 0.0000e+00 - val_sensitivity: 1.0000 - val_specificity: 0.9083\n",
      "Epoch 26/100\n",
      "859/859 [==============================] - 4s 5ms/step - loss: 0.3106 - binary_accuracy: 0.8696 - binary_crossentropy: 0.3106 - true_positives: 5.7718 - false_negatives: 0.6705 - sensitivity: 0.8970 - specificity: 0.8332 - val_loss: 0.2457 - val_binary_accuracy: 0.9579 - val_binary_crossentropy: 0.2457 - val_true_positives: 5.6421 - val_false_negatives: 0.0000e+00 - val_sensitivity: 1.0000 - val_specificity: 0.9241\n",
      "Epoch 27/100\n",
      "859/859 [==============================] - 4s 5ms/step - loss: 0.3162 - binary_accuracy: 0.8708 - binary_crossentropy: 0.3162 - true_positives: 5.6962 - false_negatives: 0.7346 - sensitivity: 0.8845 - specificity: 0.8537 - val_loss: 0.2415 - val_binary_accuracy: 0.9789 - val_binary_crossentropy: 0.2415 - val_true_positives: 5.6421 - val_false_negatives: 0.0000e+00 - val_sensitivity: 1.0000 - val_specificity: 0.9579\n",
      "Epoch 28/100\n",
      "859/859 [==============================] - 4s 5ms/step - loss: 0.3092 - binary_accuracy: 0.8906 - binary_crossentropy: 0.3092 - true_positives: 5.9115 - false_negatives: 0.5308 - sensitivity: 0.9189 - specificity: 0.8576 - val_loss: 0.2437 - val_binary_accuracy: 0.9684 - val_binary_crossentropy: 0.2437 - val_true_positives: 5.5158 - val_false_negatives: 0.1263 - val_sensitivity: 0.9860 - val_specificity: 0.9579\n",
      "Epoch 29/100\n",
      "859/859 [==============================] - 4s 5ms/step - loss: 0.2965 - binary_accuracy: 0.8824 - binary_crossentropy: 0.2965 - true_positives: 5.8859 - false_negatives: 0.5448 - sensitivity: 0.9170 - specificity: 0.8525 - val_loss: 0.2190 - val_binary_accuracy: 0.9789 - val_binary_crossentropy: 0.2190 - val_true_positives: 5.6421 - val_false_negatives: 0.0000e+00 - val_sensitivity: 1.0000 - val_specificity: 0.9579\n",
      "Epoch 30/100\n",
      "859/859 [==============================] - 4s 5ms/step - loss: 0.3046 - binary_accuracy: 0.8696 - binary_crossentropy: 0.3046 - true_positives: 5.7660 - false_negatives: 0.6705 - sensitivity: 0.9005 - specificity: 0.8395 - val_loss: 0.2255 - val_binary_accuracy: 0.9684 - val_binary_crossentropy: 0.2255 - val_true_positives: 5.6421 - val_false_negatives: 0.0000e+00 - val_sensitivity: 1.0000 - val_specificity: 0.9398\n",
      "Epoch 31/100\n",
      "859/859 [==============================] - 4s 5ms/step - loss: 0.2839 - binary_accuracy: 0.8847 - binary_crossentropy: 0.2839 - true_positives: 5.8440 - false_negatives: 0.5867 - sensitivity: 0.9122 - specificity: 0.8459 - val_loss: 0.2161 - val_binary_accuracy: 0.9684 - val_binary_crossentropy: 0.2161 - val_true_positives: 5.5158 - val_false_negatives: 0.1263 - val_sensitivity: 0.9860 - val_specificity: 0.9579\n",
      "Epoch 32/100\n",
      "859/859 [==============================] - 4s 5ms/step - loss: 0.2842 - binary_accuracy: 0.8778 - binary_crossentropy: 0.2842 - true_positives: 5.7718 - false_negatives: 0.6705 - sensitivity: 0.8976 - specificity: 0.8595 - val_loss: 0.2211 - val_binary_accuracy: 0.9474 - val_binary_crossentropy: 0.2211 - val_true_positives: 5.6421 - val_false_negatives: 0.0000e+00 - val_sensitivity: 1.0000 - val_specificity: 0.8925\n",
      "Epoch 33/100\n",
      "859/859 [==============================] - 4s 5ms/step - loss: 0.3108 - binary_accuracy: 0.8696 - binary_crossentropy: 0.3108 - true_positives: 5.7602 - false_negatives: 0.6647 - sensitivity: 0.8977 - specificity: 0.8397 - val_loss: 0.2259 - val_binary_accuracy: 0.9684 - val_binary_crossentropy: 0.2259 - val_true_positives: 5.6421 - val_false_negatives: 0.0000e+00 - val_sensitivity: 1.0000 - val_specificity: 0.9263\n",
      "Epoch 34/100\n",
      "859/859 [==============================] - 4s 5ms/step - loss: 0.2881 - binary_accuracy: 0.8813 - binary_crossentropy: 0.2881 - true_positives: 5.9756 - false_negatives: 0.4610 - sensitivity: 0.9338 - specificity: 0.8317 - val_loss: 0.2214 - val_binary_accuracy: 0.9474 - val_binary_crossentropy: 0.2214 - val_true_positives: 5.5158 - val_false_negatives: 0.1263 - val_sensitivity: 0.9860 - val_specificity: 0.9083\n",
      "Epoch 35/100\n",
      "859/859 [==============================] - 4s 5ms/step - loss: 0.2856 - binary_accuracy: 0.8859 - binary_crossentropy: 0.2856 - true_positives: 5.8475 - false_negatives: 0.5891 - sensitivity: 0.9052 - specificity: 0.8686 - val_loss: 0.2170 - val_binary_accuracy: 0.9684 - val_binary_crossentropy: 0.2170 - val_true_positives: 5.6421 - val_false_negatives: 0.0000e+00 - val_sensitivity: 1.0000 - val_specificity: 0.9398\n",
      "Epoch 36/100\n",
      "859/859 [==============================] - 4s 5ms/step - loss: 0.3042 - binary_accuracy: 0.8685 - binary_crossentropy: 0.3042 - true_positives: 5.7939 - false_negatives: 0.6426 - sensitivity: 0.9050 - specificity: 0.8260 - val_loss: 0.2216 - val_binary_accuracy: 0.9684 - val_binary_crossentropy: 0.2216 - val_true_positives: 5.6421 - val_false_negatives: 0.0000e+00 - val_sensitivity: 1.0000 - val_specificity: 0.9398\n",
      "Epoch 37/100\n",
      "859/859 [==============================] - 4s 5ms/step - loss: 0.2679 - binary_accuracy: 0.8731 - binary_crossentropy: 0.2679 - true_positives: 5.7881 - false_negatives: 0.6368 - sensitivity: 0.8979 - specificity: 0.8427 - val_loss: 0.2212 - val_binary_accuracy: 0.9684 - val_binary_crossentropy: 0.2212 - val_true_positives: 5.6421 - val_false_negatives: 0.0000e+00 - val_sensitivity: 1.0000 - val_specificity: 0.9398\n",
      "Epoch 38/100\n",
      "859/859 [==============================] - 4s 5ms/step - loss: 0.2865 - binary_accuracy: 0.8836 - binary_crossentropy: 0.2865 - true_positives: 5.9139 - false_negatives: 0.5169 - sensitivity: 0.9167 - specificity: 0.8348 - val_loss: 0.2141 - val_binary_accuracy: 0.9684 - val_binary_crossentropy: 0.2141 - val_true_positives: 5.6421 - val_false_negatives: 0.0000e+00 - val_sensitivity: 1.0000 - val_specificity: 0.9398\n",
      "Epoch 39/100\n"
     ]
    },
    {
     "name": "stdout",
     "output_type": "stream",
     "text": [
      "859/859 [==============================] - 4s 5ms/step - loss: 0.2787 - binary_accuracy: 0.8789 - binary_crossentropy: 0.2787 - true_positives: 5.6764 - false_negatives: 0.7485 - sensitivity: 0.8766 - specificity: 0.8699 - val_loss: 0.2147 - val_binary_accuracy: 0.9579 - val_binary_crossentropy: 0.2147 - val_true_positives: 5.5158 - val_false_negatives: 0.1263 - val_sensitivity: 0.9860 - val_specificity: 0.9398\n",
      "Epoch 40/100\n",
      "859/859 [==============================] - 4s 5ms/step - loss: 0.2909 - binary_accuracy: 0.8778 - binary_crossentropy: 0.2909 - true_positives: 5.8440 - false_negatives: 0.5867 - sensitivity: 0.9074 - specificity: 0.8365 - val_loss: 0.2252 - val_binary_accuracy: 0.9368 - val_binary_crossentropy: 0.2252 - val_true_positives: 5.6421 - val_false_negatives: 0.0000e+00 - val_sensitivity: 1.0000 - val_specificity: 0.8504\n",
      "Epoch 41/100\n",
      "859/859 [==============================] - 4s 5ms/step - loss: 0.2859 - binary_accuracy: 0.8859 - binary_crossentropy: 0.2859 - true_positives: 5.7881 - false_negatives: 0.6426 - sensitivity: 0.9042 - specificity: 0.8693 - val_loss: 0.2230 - val_binary_accuracy: 0.9368 - val_binary_crossentropy: 0.2230 - val_true_positives: 5.6421 - val_false_negatives: 0.0000e+00 - val_sensitivity: 1.0000 - val_specificity: 0.8504\n",
      "Epoch 42/100\n",
      "859/859 [==============================] - 4s 5ms/step - loss: 0.3004 - binary_accuracy: 0.8801 - binary_crossentropy: 0.3004 - true_positives: 5.8638 - false_negatives: 0.5728 - sensitivity: 0.9165 - specificity: 0.8465 - val_loss: 0.2169 - val_binary_accuracy: 0.9474 - val_binary_crossentropy: 0.2169 - val_true_positives: 5.6421 - val_false_negatives: 0.0000e+00 - val_sensitivity: 1.0000 - val_specificity: 0.8662\n",
      "Epoch 43/100\n",
      "859/859 [==============================] - 4s 5ms/step - loss: 0.2538 - binary_accuracy: 0.8964 - binary_crossentropy: 0.2538 - true_positives: 5.8859 - false_negatives: 0.5448 - sensitivity: 0.9192 - specificity: 0.8768 - val_loss: 0.2189 - val_binary_accuracy: 0.9368 - val_binary_crossentropy: 0.2189 - val_true_positives: 5.6421 - val_false_negatives: 0.0000e+00 - val_sensitivity: 1.0000 - val_specificity: 0.8504\n",
      "Epoch 44/100\n",
      "859/859 [==============================] - 4s 5ms/step - loss: 0.2521 - binary_accuracy: 0.8894 - binary_crossentropy: 0.2521 - true_positives: 5.9197 - false_negatives: 0.5169 - sensitivity: 0.9216 - specificity: 0.8565 - val_loss: 0.2099 - val_binary_accuracy: 0.9579 - val_binary_crossentropy: 0.2099 - val_true_positives: 5.6421 - val_false_negatives: 0.0000e+00 - val_sensitivity: 1.0000 - val_specificity: 0.9083\n",
      "Epoch 45/100\n",
      "859/859 [==============================] - 4s 5ms/step - loss: 0.2417 - binary_accuracy: 0.8906 - binary_crossentropy: 0.2417 - true_positives: 5.9139 - false_negatives: 0.5169 - sensitivity: 0.9262 - specificity: 0.8547 - val_loss: 0.2096 - val_binary_accuracy: 0.9474 - val_binary_crossentropy: 0.2096 - val_true_positives: 5.5158 - val_false_negatives: 0.1263 - val_sensitivity: 0.9860 - val_specificity: 0.9083\n",
      "Epoch 46/100\n",
      "859/859 [==============================] - 4s 5ms/step - loss: 0.2700 - binary_accuracy: 0.8917 - binary_crossentropy: 0.2700 - true_positives: 5.8778 - false_negatives: 0.5530 - sensitivity: 0.9159 - specificity: 0.8683 - val_loss: 0.2100 - val_binary_accuracy: 0.9684 - val_binary_crossentropy: 0.2100 - val_true_positives: 5.5158 - val_false_negatives: 0.1263 - val_sensitivity: 0.9860 - val_specificity: 0.9579\n",
      "Epoch 47/100\n",
      "859/859 [==============================] - 4s 5ms/step - loss: 0.2704 - binary_accuracy: 0.8859 - binary_crossentropy: 0.2704 - true_positives: 5.7742 - false_negatives: 0.6566 - sensitivity: 0.8960 - specificity: 0.8712 - val_loss: 0.2198 - val_binary_accuracy: 0.9474 - val_binary_crossentropy: 0.2198 - val_true_positives: 5.6421 - val_false_negatives: 0.0000e+00 - val_sensitivity: 1.0000 - val_specificity: 0.8917\n",
      "Epoch 48/100\n",
      "859/859 [==============================] - 4s 5ms/step - loss: 0.2705 - binary_accuracy: 0.8743 - binary_crossentropy: 0.2705 - true_positives: 5.7718 - false_negatives: 0.6705 - sensitivity: 0.8992 - specificity: 0.8535 - val_loss: 0.2248 - val_binary_accuracy: 0.9474 - val_binary_crossentropy: 0.2248 - val_true_positives: 5.5158 - val_false_negatives: 0.1263 - val_sensitivity: 0.9860 - val_specificity: 0.9083\n",
      "Epoch 49/100\n",
      "859/859 [==============================] - 4s 5ms/step - loss: 0.2596 - binary_accuracy: 0.8824 - binary_crossentropy: 0.2596 - true_positives: 5.7963 - false_negatives: 0.6286 - sensitivity: 0.8998 - specificity: 0.8633 - val_loss: 0.2102 - val_binary_accuracy: 0.9474 - val_binary_crossentropy: 0.2102 - val_true_positives: 5.5158 - val_false_negatives: 0.1263 - val_sensitivity: 0.9860 - val_specificity: 0.9083\n",
      "Epoch 50/100\n",
      "859/859 [==============================] - 4s 5ms/step - loss: 0.2558 - binary_accuracy: 0.8871 - binary_crossentropy: 0.2558 - true_positives: 5.7520 - false_negatives: 0.6787 - sensitivity: 0.8930 - specificity: 0.8740 - val_loss: 0.2122 - val_binary_accuracy: 0.9474 - val_binary_crossentropy: 0.2122 - val_true_positives: 5.5158 - val_false_negatives: 0.1263 - val_sensitivity: 0.9860 - val_specificity: 0.9083\n",
      "Epoch 51/100\n",
      "859/859 [==============================] - 4s 5ms/step - loss: 0.2573 - binary_accuracy: 0.8778 - binary_crossentropy: 0.2573 - true_positives: 5.8184 - false_negatives: 0.6007 - sensitivity: 0.9147 - specificity: 0.8474 - val_loss: 0.2111 - val_binary_accuracy: 0.9579 - val_binary_crossentropy: 0.2111 - val_true_positives: 5.5158 - val_false_negatives: 0.1263 - val_sensitivity: 0.9860 - val_specificity: 0.9263\n",
      "Epoch 52/100\n",
      "859/859 [==============================] - 4s 5ms/step - loss: 0.2716 - binary_accuracy: 0.8766 - binary_crossentropy: 0.2716 - true_positives: 5.7439 - false_negatives: 0.6985 - sensitivity: 0.8961 - specificity: 0.8536 - val_loss: 0.2132 - val_binary_accuracy: 0.9684 - val_binary_crossentropy: 0.2132 - val_true_positives: 5.6421 - val_false_negatives: 0.0000e+00 - val_sensitivity: 1.0000 - val_specificity: 0.9263\n",
      "Epoch 53/100\n",
      "859/859 [==============================] - 4s 5ms/step - loss: 0.2533 - binary_accuracy: 0.8976 - binary_crossentropy: 0.2533 - true_positives: 5.9814 - false_negatives: 0.4610 - sensitivity: 0.9294 - specificity: 0.8625 - val_loss: 0.2150 - val_binary_accuracy: 0.9474 - val_binary_crossentropy: 0.2150 - val_true_positives: 5.6421 - val_false_negatives: 0.0000e+00 - val_sensitivity: 1.0000 - val_specificity: 0.8662\n",
      "Epoch 54/100\n",
      "859/859 [==============================] - 4s 5ms/step - loss: 0.2336 - binary_accuracy: 0.8941 - binary_crossentropy: 0.2336 - true_positives: 5.9197 - false_negatives: 0.5111 - sensitivity: 0.9197 - specificity: 0.8639 - val_loss: 0.2111 - val_binary_accuracy: 0.9474 - val_binary_crossentropy: 0.2111 - val_true_positives: 5.5158 - val_false_negatives: 0.1263 - val_sensitivity: 0.9860 - val_specificity: 0.9083\n",
      "Epoch 55/100\n",
      "859/859 [==============================] - 4s 5ms/step - loss: 0.2609 - binary_accuracy: 0.8894 - binary_crossentropy: 0.2609 - true_positives: 5.8498 - false_negatives: 0.5867 - sensitivity: 0.9091 - specificity: 0.8521 - val_loss: 0.2192 - val_binary_accuracy: 0.9474 - val_binary_crossentropy: 0.2192 - val_true_positives: 5.5158 - val_false_negatives: 0.1263 - val_sensitivity: 0.9860 - val_specificity: 0.9083\n",
      "Epoch 56/100\n",
      "859/859 [==============================] - 4s 5ms/step - loss: 0.2254 - binary_accuracy: 0.8976 - binary_crossentropy: 0.2254 - true_positives: 5.8382 - false_negatives: 0.5867 - sensitivity: 0.9072 - specificity: 0.8855 - val_loss: 0.2127 - val_binary_accuracy: 0.9579 - val_binary_crossentropy: 0.2127 - val_true_positives: 5.6421 - val_false_negatives: 0.0000e+00 - val_sensitivity: 1.0000 - val_specificity: 0.9083\n",
      "Epoch 57/100\n",
      "859/859 [==============================] - 4s 5ms/step - loss: 0.2461 - binary_accuracy: 0.8941 - binary_crossentropy: 0.2461 - true_positives: 5.8661 - false_negatives: 0.5588 - sensitivity: 0.9128 - specificity: 0.8737 - val_loss: 0.2132 - val_binary_accuracy: 0.9579 - val_binary_crossentropy: 0.2132 - val_true_positives: 5.6421 - val_false_negatives: 0.0000e+00 - val_sensitivity: 1.0000 - val_specificity: 0.9083\n",
      "Epoch 58/100\n"
     ]
    },
    {
     "name": "stdout",
     "output_type": "stream",
     "text": [
      "859/859 [==============================] - 4s 5ms/step - loss: 0.2604 - binary_accuracy: 0.8906 - binary_crossentropy: 0.2604 - true_positives: 5.8859 - false_negatives: 0.5448 - sensitivity: 0.9070 - specificity: 0.8598 - val_loss: 0.2133 - val_binary_accuracy: 0.9579 - val_binary_crossentropy: 0.2133 - val_true_positives: 5.5158 - val_false_negatives: 0.1263 - val_sensitivity: 0.9860 - val_specificity: 0.9263\n",
      "Epoch 59/100\n",
      "859/859 [==============================] - 4s 5ms/step - loss: 0.2279 - binary_accuracy: 0.8941 - binary_crossentropy: 0.2279 - true_positives: 5.8440 - false_negatives: 0.5867 - sensitivity: 0.9126 - specificity: 0.8561 - val_loss: 0.2100 - val_binary_accuracy: 0.9474 - val_binary_crossentropy: 0.2100 - val_true_positives: 5.6421 - val_false_negatives: 0.0000e+00 - val_sensitivity: 1.0000 - val_specificity: 0.8662\n",
      "Epoch 60/100\n",
      "859/859 [==============================] - 4s 5ms/step - loss: 0.2565 - binary_accuracy: 0.8847 - binary_crossentropy: 0.2565 - true_positives: 5.8615 - false_negatives: 0.5809 - sensitivity: 0.9096 - specificity: 0.8602 - val_loss: 0.2058 - val_binary_accuracy: 0.9579 - val_binary_crossentropy: 0.2058 - val_true_positives: 5.5158 - val_false_negatives: 0.1263 - val_sensitivity: 0.9860 - val_specificity: 0.9263\n",
      "Epoch 61/100\n",
      "859/859 [==============================] - 4s 5ms/step - loss: 0.2423 - binary_accuracy: 0.9034 - binary_crossentropy: 0.2423 - true_positives: 5.9558 - false_negatives: 0.4750 - sensitivity: 0.9283 - specificity: 0.8827 - val_loss: 0.2068 - val_binary_accuracy: 0.9684 - val_binary_crossentropy: 0.2068 - val_true_positives: 5.6421 - val_false_negatives: 0.0000e+00 - val_sensitivity: 1.0000 - val_specificity: 0.9263\n",
      "Epoch 62/100\n",
      "859/859 [==============================] - 4s 5ms/step - loss: 0.2542 - binary_accuracy: 0.8836 - binary_crossentropy: 0.2542 - true_positives: 5.8498 - false_negatives: 0.5867 - sensitivity: 0.9128 - specificity: 0.8584 - val_loss: 0.2172 - val_binary_accuracy: 0.9474 - val_binary_crossentropy: 0.2172 - val_true_positives: 5.6421 - val_false_negatives: 0.0000e+00 - val_sensitivity: 1.0000 - val_specificity: 0.8662\n",
      "Epoch 63/100\n",
      "859/859 [==============================] - 4s 5ms/step - loss: 0.2353 - binary_accuracy: 0.9022 - binary_crossentropy: 0.2353 - true_positives: 5.9499 - false_negatives: 0.4750 - sensitivity: 0.9261 - specificity: 0.8665 - val_loss: 0.2095 - val_binary_accuracy: 0.9474 - val_binary_crossentropy: 0.2095 - val_true_positives: 5.6421 - val_false_negatives: 0.0000e+00 - val_sensitivity: 1.0000 - val_specificity: 0.8662\n",
      "Epoch 64/100\n",
      "859/859 [==============================] - 4s 5ms/step - loss: 0.2464 - binary_accuracy: 0.8964 - binary_crossentropy: 0.2464 - true_positives: 5.9080 - false_negatives: 0.5169 - sensitivity: 0.9178 - specificity: 0.8669 - val_loss: 0.2032 - val_binary_accuracy: 0.9474 - val_binary_crossentropy: 0.2032 - val_true_positives: 5.5158 - val_false_negatives: 0.1263 - val_sensitivity: 0.9860 - val_specificity: 0.8842\n",
      "Epoch 65/100\n",
      "859/859 [==============================] - 4s 5ms/step - loss: 0.2283 - binary_accuracy: 0.8976 - binary_crossentropy: 0.2283 - true_positives: 5.8801 - false_negatives: 0.5448 - sensitivity: 0.9150 - specificity: 0.8771 - val_loss: 0.1967 - val_binary_accuracy: 0.9474 - val_binary_crossentropy: 0.1967 - val_true_positives: 5.6421 - val_false_negatives: 0.0000e+00 - val_sensitivity: 1.0000 - val_specificity: 0.8662\n",
      "Epoch 66/100\n",
      "859/859 [==============================] - 4s 5ms/step - loss: 0.2435 - binary_accuracy: 0.9010 - binary_crossentropy: 0.2435 - true_positives: 5.9115 - false_negatives: 0.5192 - sensitivity: 0.9167 - specificity: 0.8916 - val_loss: 0.1957 - val_binary_accuracy: 0.9474 - val_binary_crossentropy: 0.1957 - val_true_positives: 5.6421 - val_false_negatives: 0.0000e+00 - val_sensitivity: 1.0000 - val_specificity: 0.8662\n",
      "Epoch 67/100\n",
      "859/859 [==============================] - 4s 5ms/step - loss: 0.2287 - binary_accuracy: 0.8941 - binary_crossentropy: 0.2287 - true_positives: 5.8801 - false_negatives: 0.5448 - sensitivity: 0.9203 - specificity: 0.8753 - val_loss: 0.2063 - val_binary_accuracy: 0.9474 - val_binary_crossentropy: 0.2063 - val_true_positives: 5.6421 - val_false_negatives: 0.0000e+00 - val_sensitivity: 1.0000 - val_specificity: 0.8662\n",
      "Epoch 68/100\n",
      "859/859 [==============================] - 4s 5ms/step - loss: 0.2232 - binary_accuracy: 0.8976 - binary_crossentropy: 0.2232 - true_positives: 5.9895 - false_negatives: 0.4470 - sensitivity: 0.9297 - specificity: 0.8548 - val_loss: 0.1980 - val_binary_accuracy: 0.9368 - val_binary_crossentropy: 0.1980 - val_true_positives: 5.5158 - val_false_negatives: 0.1263 - val_sensitivity: 0.9860 - val_specificity: 0.8662\n",
      "Epoch 69/100\n",
      "859/859 [==============================] - 4s 5ms/step - loss: 0.2267 - binary_accuracy: 0.8999 - binary_crossentropy: 0.2267 - true_positives: 5.9255 - false_negatives: 0.5111 - sensitivity: 0.9187 - specificity: 0.8782 - val_loss: 0.2011 - val_binary_accuracy: 0.9474 - val_binary_crossentropy: 0.2011 - val_true_positives: 5.6421 - val_false_negatives: 0.0000e+00 - val_sensitivity: 1.0000 - val_specificity: 0.8662\n",
      "Epoch 70/100\n",
      "859/859 [==============================] - 4s 5ms/step - loss: 0.2497 - binary_accuracy: 0.8894 - binary_crossentropy: 0.2497 - true_positives: 5.8964 - false_negatives: 0.5169 - sensitivity: 0.9221 - specificity: 0.8483 - val_loss: 0.1983 - val_binary_accuracy: 0.9474 - val_binary_crossentropy: 0.1983 - val_true_positives: 5.6421 - val_false_negatives: 0.0000e+00 - val_sensitivity: 1.0000 - val_specificity: 0.8662\n",
      "Epoch 71/100\n",
      "859/859 [==============================] - 4s 5ms/step - loss: 0.2152 - binary_accuracy: 0.9034 - binary_crossentropy: 0.2152 - true_positives: 5.9814 - false_negatives: 0.4610 - sensitivity: 0.9325 - specificity: 0.8693 - val_loss: 0.1946 - val_binary_accuracy: 0.9474 - val_binary_crossentropy: 0.1946 - val_true_positives: 5.5158 - val_false_negatives: 0.1263 - val_sensitivity: 0.9860 - val_specificity: 0.9083\n",
      "Epoch 72/100\n",
      "859/859 [==============================] - 4s 5ms/step - loss: 0.2322 - binary_accuracy: 0.8836 - binary_crossentropy: 0.2322 - true_positives: 5.7742 - false_negatives: 0.6566 - sensitivity: 0.8886 - specificity: 0.8762 - val_loss: 0.1908 - val_binary_accuracy: 0.9474 - val_binary_crossentropy: 0.1908 - val_true_positives: 5.6421 - val_false_negatives: 0.0000e+00 - val_sensitivity: 1.0000 - val_specificity: 0.8662\n",
      "Epoch 73/100\n",
      "859/859 [==============================] - 4s 5ms/step - loss: 0.2128 - binary_accuracy: 0.8999 - binary_crossentropy: 0.2128 - true_positives: 5.9814 - false_negatives: 0.4610 - sensitivity: 0.9249 - specificity: 0.8503 - val_loss: 0.1925 - val_binary_accuracy: 0.9474 - val_binary_crossentropy: 0.1925 - val_true_positives: 5.6421 - val_false_negatives: 0.0000e+00 - val_sensitivity: 1.0000 - val_specificity: 0.8662\n",
      "Epoch 74/100\n",
      "859/859 [==============================] - 4s 5ms/step - loss: 0.2388 - binary_accuracy: 0.9080 - binary_crossentropy: 0.2388 - true_positives: 5.9837 - false_negatives: 0.4470 - sensitivity: 0.9248 - specificity: 0.8905 - val_loss: 0.1891 - val_binary_accuracy: 0.9474 - val_binary_crossentropy: 0.1891 - val_true_positives: 5.6421 - val_false_negatives: 0.0000e+00 - val_sensitivity: 1.0000 - val_specificity: 0.8662\n",
      "Epoch 75/100\n",
      "859/859 [==============================] - 4s 5ms/step - loss: 0.2190 - binary_accuracy: 0.9034 - binary_crossentropy: 0.2190 - true_positives: 5.9953 - false_negatives: 0.4412 - sensitivity: 0.9330 - specificity: 0.8739 - val_loss: 0.1890 - val_binary_accuracy: 0.9474 - val_binary_crossentropy: 0.1890 - val_true_positives: 5.6421 - val_false_negatives: 0.0000e+00 - val_sensitivity: 1.0000 - val_specificity: 0.8662\n",
      "Epoch 76/100\n",
      "859/859 [==============================] - 4s 5ms/step - loss: 0.2179 - binary_accuracy: 0.8999 - binary_crossentropy: 0.2179 - true_positives: 5.9220 - false_negatives: 0.4971 - sensitivity: 0.9232 - specificity: 0.8765 - val_loss: 0.1932 - val_binary_accuracy: 0.9474 - val_binary_crossentropy: 0.1932 - val_true_positives: 5.6421 - val_false_negatives: 0.0000e+00 - val_sensitivity: 1.0000 - val_specificity: 0.8662\n",
      "Epoch 77/100\n"
     ]
    },
    {
     "name": "stdout",
     "output_type": "stream",
     "text": [
      "859/859 [==============================] - 4s 5ms/step - loss: 0.2111 - binary_accuracy: 0.9045 - binary_crossentropy: 0.2111 - true_positives: 6.0594 - false_negatives: 0.3772 - sensitivity: 0.9375 - specificity: 0.8578 - val_loss: 0.1857 - val_binary_accuracy: 0.9474 - val_binary_crossentropy: 0.1857 - val_true_positives: 5.6421 - val_false_negatives: 0.0000e+00 - val_sensitivity: 1.0000 - val_specificity: 0.8662\n",
      "Epoch 78/100\n",
      "859/859 [==============================] - 4s 5ms/step - loss: 0.2169 - binary_accuracy: 0.8999 - binary_crossentropy: 0.2169 - true_positives: 5.9756 - false_negatives: 0.4610 - sensitivity: 0.9289 - specificity: 0.8778 - val_loss: 0.1805 - val_binary_accuracy: 0.9474 - val_binary_crossentropy: 0.1805 - val_true_positives: 5.6421 - val_false_negatives: 0.0000e+00 - val_sensitivity: 1.0000 - val_specificity: 0.8662\n",
      "Epoch 79/100\n",
      "859/859 [==============================] - 4s 5ms/step - loss: 0.2035 - binary_accuracy: 0.9080 - binary_crossentropy: 0.2035 - true_positives: 5.9639 - false_negatives: 0.4610 - sensitivity: 0.9341 - specificity: 0.8877 - val_loss: 0.1827 - val_binary_accuracy: 0.9474 - val_binary_crossentropy: 0.1827 - val_true_positives: 5.6421 - val_false_negatives: 0.0000e+00 - val_sensitivity: 1.0000 - val_specificity: 0.8662\n",
      "Epoch 80/100\n",
      "859/859 [==============================] - 4s 5ms/step - loss: 0.2230 - binary_accuracy: 0.9010 - binary_crossentropy: 0.2230 - true_positives: 6.0151 - false_negatives: 0.4272 - sensitivity: 0.9327 - specificity: 0.8716 - val_loss: 0.1791 - val_binary_accuracy: 0.9579 - val_binary_crossentropy: 0.1791 - val_true_positives: 5.6421 - val_false_negatives: 0.0000e+00 - val_sensitivity: 1.0000 - val_specificity: 0.9083\n",
      "Epoch 81/100\n",
      "859/859 [==============================] - 4s 5ms/step - loss: 0.2401 - binary_accuracy: 0.8917 - binary_crossentropy: 0.2401 - true_positives: 5.8638 - false_negatives: 0.5728 - sensitivity: 0.9144 - specificity: 0.8695 - val_loss: 0.1967 - val_binary_accuracy: 0.9474 - val_binary_crossentropy: 0.1967 - val_true_positives: 5.6421 - val_false_negatives: 0.0000e+00 - val_sensitivity: 1.0000 - val_specificity: 0.8662\n",
      "Epoch 82/100\n",
      "859/859 [==============================] - 4s 5ms/step - loss: 0.2142 - binary_accuracy: 0.9150 - binary_crossentropy: 0.2142 - true_positives: 6.0256 - false_negatives: 0.4051 - sensitivity: 0.9395 - specificity: 0.8831 - val_loss: 0.1845 - val_binary_accuracy: 0.9474 - val_binary_crossentropy: 0.1845 - val_true_positives: 5.6421 - val_false_negatives: 0.0000e+00 - val_sensitivity: 1.0000 - val_specificity: 0.8662\n",
      "Epoch 83/100\n",
      "859/859 [==============================] - 4s 5ms/step - loss: 0.2045 - binary_accuracy: 0.9057 - binary_crossentropy: 0.2045 - true_positives: 5.9756 - false_negatives: 0.4552 - sensitivity: 0.9270 - specificity: 0.8864 - val_loss: 0.1847 - val_binary_accuracy: 0.9474 - val_binary_crossentropy: 0.1847 - val_true_positives: 5.6421 - val_false_negatives: 0.0000e+00 - val_sensitivity: 1.0000 - val_specificity: 0.8662\n",
      "Epoch 84/100\n",
      "859/859 [==============================] - 4s 5ms/step - loss: 0.2205 - binary_accuracy: 0.9127 - binary_crossentropy: 0.2205 - true_positives: 6.0373 - false_negatives: 0.4051 - sensitivity: 0.9441 - specificity: 0.8807 - val_loss: 0.2138 - val_binary_accuracy: 0.9158 - val_binary_crossentropy: 0.2138 - val_true_positives: 5.6421 - val_false_negatives: 0.0000e+00 - val_sensitivity: 1.0000 - val_specificity: 0.8158\n",
      "Epoch 85/100\n",
      "859/859 [==============================] - 4s 5ms/step - loss: 0.2150 - binary_accuracy: 0.9115 - binary_crossentropy: 0.2150 - true_positives: 6.0419 - false_negatives: 0.3772 - sensitivity: 0.9309 - specificity: 0.8819 - val_loss: 0.1968 - val_binary_accuracy: 0.9474 - val_binary_crossentropy: 0.1968 - val_true_positives: 5.6421 - val_false_negatives: 0.0000e+00 - val_sensitivity: 1.0000 - val_specificity: 0.8662\n",
      "Epoch 86/100\n",
      "859/859 [==============================] - 4s 5ms/step - loss: 0.2113 - binary_accuracy: 0.9034 - binary_crossentropy: 0.2113 - true_positives: 6.0035 - false_negatives: 0.4272 - sensitivity: 0.9369 - specificity: 0.8770 - val_loss: 0.1882 - val_binary_accuracy: 0.9579 - val_binary_crossentropy: 0.1882 - val_true_positives: 5.6421 - val_false_negatives: 0.0000e+00 - val_sensitivity: 1.0000 - val_specificity: 0.9083\n",
      "Epoch 87/100\n",
      "859/859 [==============================] - 4s 5ms/step - loss: 0.2064 - binary_accuracy: 0.9080 - binary_crossentropy: 0.2064 - true_positives: 6.0477 - false_negatives: 0.3772 - sensitivity: 0.9390 - specificity: 0.8595 - val_loss: 0.1853 - val_binary_accuracy: 0.9474 - val_binary_crossentropy: 0.1853 - val_true_positives: 5.6421 - val_false_negatives: 0.0000e+00 - val_sensitivity: 1.0000 - val_specificity: 0.8662\n",
      "Epoch 88/100\n",
      "859/859 [==============================] - 4s 5ms/step - loss: 0.2005 - binary_accuracy: 0.9092 - binary_crossentropy: 0.2005 - true_positives: 6.0373 - false_negatives: 0.4051 - sensitivity: 0.9338 - specificity: 0.8752 - val_loss: 0.1821 - val_binary_accuracy: 0.9579 - val_binary_crossentropy: 0.1821 - val_true_positives: 5.6421 - val_false_negatives: 0.0000e+00 - val_sensitivity: 1.0000 - val_specificity: 0.9083\n",
      "Epoch 89/100\n",
      "859/859 [==============================] - 4s 5ms/step - loss: 0.2214 - binary_accuracy: 0.9022 - binary_crossentropy: 0.2214 - true_positives: 5.8079 - false_negatives: 0.6286 - sensitivity: 0.9026 - specificity: 0.9091 - val_loss: 0.1885 - val_binary_accuracy: 0.9474 - val_binary_crossentropy: 0.1885 - val_true_positives: 5.6421 - val_false_negatives: 0.0000e+00 - val_sensitivity: 1.0000 - val_specificity: 0.8662\n",
      "Epoch 90/100\n",
      "859/859 [==============================] - 4s 5ms/step - loss: 0.1947 - binary_accuracy: 0.9255 - binary_crossentropy: 0.1947 - true_positives: 6.1071 - false_negatives: 0.3353 - sensitivity: 0.9474 - specificity: 0.8875 - val_loss: 0.1810 - val_binary_accuracy: 0.9474 - val_binary_crossentropy: 0.1810 - val_true_positives: 5.6421 - val_false_negatives: 0.0000e+00 - val_sensitivity: 1.0000 - val_specificity: 0.8662\n",
      "Epoch 91/100\n",
      "859/859 [==============================] - 4s 5ms/step - loss: 0.2067 - binary_accuracy: 0.9057 - binary_crossentropy: 0.2067 - true_positives: 6.0035 - false_negatives: 0.4331 - sensitivity: 0.9346 - specificity: 0.8842 - val_loss: 0.1805 - val_binary_accuracy: 0.9474 - val_binary_crossentropy: 0.1805 - val_true_positives: 5.6421 - val_false_negatives: 0.0000e+00 - val_sensitivity: 1.0000 - val_specificity: 0.8662\n",
      "Epoch 92/100\n",
      "859/859 [==============================] - 4s 5ms/step - loss: 0.2078 - binary_accuracy: 0.9010 - binary_crossentropy: 0.2078 - true_positives: 5.9837 - false_negatives: 0.4412 - sensitivity: 0.9305 - specificity: 0.8637 - val_loss: 0.1770 - val_binary_accuracy: 0.9579 - val_binary_crossentropy: 0.1770 - val_true_positives: 5.6421 - val_false_negatives: 0.0000e+00 - val_sensitivity: 1.0000 - val_specificity: 0.9083\n",
      "Epoch 93/100\n",
      "859/859 [==============================] - 4s 5ms/step - loss: 0.2036 - binary_accuracy: 0.9162 - binary_crossentropy: 0.2036 - true_positives: 6.1013 - false_negatives: 0.3353 - sensitivity: 0.9501 - specificity: 0.8818 - val_loss: 0.1842 - val_binary_accuracy: 0.9579 - val_binary_crossentropy: 0.1842 - val_true_positives: 5.6421 - val_false_negatives: 0.0000e+00 - val_sensitivity: 1.0000 - val_specificity: 0.9083\n",
      "Epoch 94/100\n",
      "859/859 [==============================] - 4s 5ms/step - loss: 0.2023 - binary_accuracy: 0.9127 - binary_crossentropy: 0.2023 - true_positives: 6.0314 - false_negatives: 0.4051 - sensitivity: 0.9354 - specificity: 0.8859 - val_loss: 0.1843 - val_binary_accuracy: 0.9579 - val_binary_crossentropy: 0.1843 - val_true_positives: 5.6421 - val_false_negatives: 0.0000e+00 - val_sensitivity: 1.0000 - val_specificity: 0.9083\n",
      "Epoch 95/100\n",
      "859/859 [==============================] - 4s 5ms/step - loss: 0.2053 - binary_accuracy: 0.9092 - binary_crossentropy: 0.2053 - true_positives: 5.9674 - false_negatives: 0.4750 - sensitivity: 0.9249 - specificity: 0.8877 - val_loss: 0.1861 - val_binary_accuracy: 0.9474 - val_binary_crossentropy: 0.1861 - val_true_positives: 5.6421 - val_false_negatives: 0.0000e+00 - val_sensitivity: 1.0000 - val_specificity: 0.8662\n"
     ]
    },
    {
     "name": "stdout",
     "output_type": "stream",
     "text": [
      "Epoch 96/100\n",
      "859/859 [==============================] - 4s 5ms/step - loss: 0.1935 - binary_accuracy: 0.9162 - binary_crossentropy: 0.1935 - true_positives: 6.0279 - false_negatives: 0.3912 - sensitivity: 0.9453 - specificity: 0.8912 - val_loss: 0.1744 - val_binary_accuracy: 0.9579 - val_binary_crossentropy: 0.1744 - val_true_positives: 5.6421 - val_false_negatives: 0.0000e+00 - val_sensitivity: 1.0000 - val_specificity: 0.9083\n",
      "Epoch 97/100\n",
      "859/859 [==============================] - 4s 5ms/step - loss: 0.2063 - binary_accuracy: 0.9104 - binary_crossentropy: 0.2063 - true_positives: 6.0256 - false_negatives: 0.4051 - sensitivity: 0.9374 - specificity: 0.8809 - val_loss: 0.1735 - val_binary_accuracy: 0.9579 - val_binary_crossentropy: 0.1735 - val_true_positives: 5.6421 - val_false_negatives: 0.0000e+00 - val_sensitivity: 1.0000 - val_specificity: 0.9083\n",
      "Epoch 98/100\n",
      "859/859 [==============================] - 4s 5ms/step - loss: 0.1973 - binary_accuracy: 0.9243 - binary_crossentropy: 0.1973 - true_positives: 6.0896 - false_negatives: 0.3353 - sensitivity: 0.9480 - specificity: 0.8783 - val_loss: 0.1783 - val_binary_accuracy: 0.9579 - val_binary_crossentropy: 0.1783 - val_true_positives: 5.6421 - val_false_negatives: 0.0000e+00 - val_sensitivity: 1.0000 - val_specificity: 0.9083\n",
      "Epoch 99/100\n",
      "859/859 [==============================] - 4s 5ms/step - loss: 0.2044 - binary_accuracy: 0.9255 - binary_crossentropy: 0.2044 - true_positives: 6.1595 - false_negatives: 0.2654 - sensitivity: 0.9555 - specificity: 0.8850 - val_loss: 0.1724 - val_binary_accuracy: 0.9579 - val_binary_crossentropy: 0.1724 - val_true_positives: 5.6421 - val_false_negatives: 0.0000e+00 - val_sensitivity: 1.0000 - val_specificity: 0.9083\n",
      "Epoch 100/100\n",
      "859/859 [==============================] - 4s 5ms/step - loss: 0.1924 - binary_accuracy: 0.9173 - binary_crossentropy: 0.1924 - true_positives: 6.0536 - false_negatives: 0.3772 - sensitivity: 0.9428 - specificity: 0.8755 - val_loss: 0.1744 - val_binary_accuracy: 0.9579 - val_binary_crossentropy: 0.1744 - val_true_positives: 5.6421 - val_false_negatives: 0.0000e+00 - val_sensitivity: 1.0000 - val_specificity: 0.9083\n"
     ]
    }
   ],
   "source": [
    "mc_callback = ModelCheckpoint(filepath='tmp/c3d_weights.hdf5', verbose=1)\n",
    "history = model.fit(\n",
    "    x=X_train,\n",
    "    y=y_train,\n",
    "    epochs=100,\n",
    "    batch_size=12,\n",
    "    validation_data = (X_val, y_val),\n",
    "    verbose=1)"
   ]
  },
  {
   "cell_type": "code",
   "execution_count": 52,
   "metadata": {},
   "outputs": [],
   "source": [
    "from sklearn.metrics import roc_curve\n",
    "y_pred_keras = model.predict(X_val).ravel()\n",
    "fpr_keras, tpr_keras, thresholds_keras = roc_curve(y_val, y_pred_keras)"
   ]
  },
  {
   "cell_type": "code",
   "execution_count": 53,
   "metadata": {},
   "outputs": [
    {
     "name": "stdout",
     "output_type": "stream",
     "text": [
      "0.983111111111111\n"
     ]
    }
   ],
   "source": [
    "from sklearn.metrics import auc\n",
    "auc_keras = auc(fpr_keras, tpr_keras)\n",
    "print(auc_keras)"
   ]
  },
  {
   "cell_type": "code",
   "execution_count": 54,
   "metadata": {},
   "outputs": [
    {
     "data": {
      "image/png": "[encoded data removed]",
      "text/plain": [
       "<Figure size 432x288 with 1 Axes>"
      ]
     },
     "metadata": {},
     "output_type": "display_data"
    },
    {
     "data": {
      "image/png": "[encoded data removed]",
      "text/plain": [
       "<Figure size 432x288 with 1 Axes>"
      ]
     },
     "metadata": {},
     "output_type": "display_data"
    }
   ],
   "source": [
    "plt.figure(1)\n",
    "plt.plot([0, 1], [0, 1], 'k--')\n",
    "plt.plot(fpr_keras, tpr_keras, label='Keras (area = {:.3f})'.format(auc_keras))\n",
    "plt.xlabel('False positive rate')\n",
    "plt.ylabel('True positive rate')\n",
    "plt.title('ROC curve')\n",
    "plt.legend(loc='best')\n",
    "plt.show()\n",
    "# Zoom in view of the upper left corner.\n",
    "plt.figure(2)\n",
    "plt.xlim(0, 0.2)\n",
    "plt.ylim(0.8, 1)\n",
    "plt.plot([0, 1], [0, 1], 'k--')\n",
    "plt.plot(fpr_keras, tpr_keras, label='Keras (area = {:.3f})'.format(auc_keras))\n",
    "plt.xlabel('False positive rate')\n",
    "plt.ylabel('True positive rate')\n",
    "plt.title('ROC curve (zoomed in at top left)')\n",
    "plt.legend(loc='best')\n",
    "plt.show()"
   ]
  },
  {
   "cell_type": "code",
   "execution_count": 55,
   "metadata": {},
   "outputs": [
    {
     "name": "stdout",
     "output_type": "stream",
     "text": [
      "dict_keys(['val_loss', 'val_binary_accuracy', 'val_binary_crossentropy', 'val_true_positives', 'val_false_negatives', 'val_sensitivity', 'val_specificity', 'loss', 'binary_accuracy', 'binary_crossentropy', 'true_positives', 'false_negatives', 'sensitivity', 'specificity'])\n"
     ]
    },
    {
     "data": {
      "image/png": "[encoded data removed]",
      "text/plain": [
       "<Figure size 432x288 with 1 Axes>"
      ]
     },
     "metadata": {},
     "output_type": "display_data"
    }
   ],
   "source": [
    "# import matplotlib library, and plot training cuve\n",
    "import matplotlib.pyplot as plt \n",
    "print(history.history.keys())\n",
    "plt.figure()\n",
    "plt.plot(history.history['binary_accuracy'], 'orange', label='Training accuracy') \n",
    "plt.plot(history.history['val_binary_accuracy'], 'blue', label='Validation accuracy') \n",
    "#plt.plot(history.history['loss'], 'red', label='Training loss') \n",
    "#plt.plot(history.history['val_loss'], 'green', label='Validation loss') \n",
    "plt.legend()\n",
    "plt.show()"
   ]
  },
  {
   "cell_type": "code",
   "execution_count": null,
   "metadata": {},
   "outputs": [],
   "source": []
  }
 ],
 "metadata": {
  "kernelspec": {
   "display_name": "Python 3",
   "language": "python",
   "name": "python3"
  },
  "language_info": {
   "codemirror_mode": {
    "name": "ipython",
    "version": 3
   },
   "file_extension": ".py",
   "mimetype": "text/x-python",
   "name": "python",
   "nbconvert_exporter": "python",
   "pygments_lexer": "ipython3",
   "version": "3.6.3"
  }
 },
 "nbformat": 4,
 "nbformat_minor": 2
}
