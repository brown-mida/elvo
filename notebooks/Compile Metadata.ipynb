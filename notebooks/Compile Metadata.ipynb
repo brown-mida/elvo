{
 "cells": [
  {
   "cell_type": "code",
   "execution_count": 11,
   "metadata": {
    "collapsed": true
   },
   "outputs": [],
   "source": [
    "import pandas as pd\n",
    "import numpy as np"
   ]
  },
  {
   "cell_type": "code",
   "execution_count": 12,
   "metadata": {},
   "outputs": [],
   "source": [
    "all_metadata_df = pd.read_csv('/Users/haltriedman/Downloads/all_metadata.csv')\n",
    "positives_df = pd.read_csv('/Users/haltriedman/Downloads/positives_location.csv')\n",
    "preds_df = pd.read_csv('/Users/haltriedman/Downloads/ids_preds.csv')\n",
    "all_metadata = all_metadata_df.values\n",
    "positives = positives_df.values\n",
    "preds = preds_df.values"
   ]
  },
  {
   "cell_type": "code",
   "execution_count": 13,
   "metadata": {},
   "outputs": [
    {
     "name": "stdout",
     "output_type": "stream",
     "text": [
      "[['04IOS24JP70LHBGB' 'L M1']\n",
      " ['0DQO9A6UXUQHR8RA' 'L M1']\n",
      " ['0E1AN2T001WORM02' 'L ICA']\n",
      " ..., \n",
      " ['ZXXMMCGK6ANRKLFD' 'R M1']\n",
      " ['ZYKNNBEIY0387GUQ' 'L M2']\n",
      " ['ZZX0ZNWG6Q9I18GK' 'R ICA']]\n"
     ]
    }
   ],
   "source": [
    "print(positives)"
   ]
  },
  {
   "cell_type": "code",
   "execution_count": 53,
   "metadata": {},
   "outputs": [],
   "source": [
    "complete_metadata = []\n",
    "for entry in all_metadata:\n",
    "    # Append stroke location\n",
    "    found_positive = False\n",
    "    found_pred = False\n",
    "    for loc in positives:\n",
    "        if found_positive:\n",
    "            break\n",
    "            \n",
    "        if entry[0] == loc[0] and entry[1] == 'Y':\n",
    "            entry = np.append(entry, loc[1])\n",
    "            found_positive = True\n",
    "    \n",
    "    if not found_positive:\n",
    "        entry = np.append(entry, 'No ELVO')\n",
    "        \n",
    "    # Append prediction probability\n",
    "    for pred in preds:\n",
    "        if found_pred:\n",
    "            break\n",
    "        \n",
    "        if entry[0] == pred[0]:\n",
    "            entry = np.append(entry, pred[1])\n",
    "            found_pred = True\n",
    "    \n",
    "    if not found_pred:\n",
    "        entry = np.append(entry, -1)\n",
    "        \n",
    "    if entry[5] != -1:\n",
    "        complete_metadata.append(entry.tolist())"
   ]
  },
  {
   "cell_type": "code",
   "execution_count": 54,
   "metadata": {},
   "outputs": [],
   "source": [
    "complete_metadata = np.array(complete_metadata)"
   ]
  },
  {
   "cell_type": "code",
   "execution_count": 55,
   "metadata": {},
   "outputs": [
    {
     "name": "stdout",
     "output_type": "stream",
     "text": [
      "[['04IOS24JP70LHBGB' 'Y' '35' 'Female' 'L M1' '0.999992251396']\n",
      " ['0DQO9A6UXUQHR8RA' 'Y' '59' 'Female' 'L M1' '0.999980151653']\n",
      " ['0E1AN2T001WORM02' 'Y' '75' 'Female' 'L ICA' '0.763249993324']\n",
      " ..., \n",
      " ['ZYKNNBEIY0387GUQ' 'Y' '62' 'Female' 'L M2' '0.999997615814']\n",
      " ['ZZWCWIY01XXP36WL' 'N' '64' 'nan' 'No ELVO' '0.000216447675484']\n",
      " ['ZZX0ZNWG6Q9I18GK' 'Y' '75' 'Female' 'R ICA' '0.710679709911']]\n"
     ]
    }
   ],
   "source": [
    "print(complete_metadata)"
   ]
  },
  {
   "cell_type": "code",
   "execution_count": 56,
   "metadata": {
    "collapsed": true
   },
   "outputs": [],
   "source": [
    "complete_metadata_df = pd.DataFrame(complete_metadata)"
   ]
  },
  {
   "cell_type": "code",
   "execution_count": 57,
   "metadata": {
    "collapsed": true
   },
   "outputs": [],
   "source": [
    "complete_metadata_df.to_csv('/Users/haltriedman/Downloads/complete_metadata.csv')"
   ]
  },
  {
   "cell_type": "code",
   "execution_count": null,
   "metadata": {
    "collapsed": true
   },
   "outputs": [],
   "source": []
  }
 ],
 "metadata": {
  "kernelspec": {
   "display_name": "Python 2",
   "language": "python",
   "name": "python2"
  },
  "language_info": {
   "codemirror_mode": {
    "name": "ipython",
    "version": 2
   },
   "file_extension": ".py",
   "mimetype": "text/x-python",
   "name": "python",
   "nbconvert_exporter": "python",
   "pygments_lexer": "ipython2",
   "version": "2.7.14"
  }
 },
 "nbformat": 4,
 "nbformat_minor": 2
}
